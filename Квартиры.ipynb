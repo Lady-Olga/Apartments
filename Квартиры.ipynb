{
 "cells": [
  {
   "cell_type": "markdown",
   "metadata": {},
   "source": [
    "# Исследование объявлений о продаже квартир\n",
    "\n",
    "В вашем распоряжении данные сервиса Яндекс.Недвижимость — архив объявлений о продаже квартир в Санкт-Петербурге и соседних населённых пунктов за несколько лет. Нужно научиться определять рыночную стоимость объектов недвижимости. Ваша задача — установить параметры. Это позволит построить автоматизированную систему: она отследит аномалии и мошенническую деятельность. \n",
    "\n",
    "По каждой квартире на продажу доступны два вида данных. Первые вписаны пользователем, вторые — получены автоматически на основе картографических данных. Например, расстояние до центра, аэропорта, ближайшего парка и водоёма. "
   ]
  },
  {
   "cell_type": "markdown",
   "metadata": {},
   "source": [
    "### Откройте файл с данными и изучите общую информацию. "
   ]
  },
  {
   "cell_type": "code",
   "execution_count": 1,
   "metadata": {},
   "outputs": [],
   "source": [
    "import pandas as pd\n",
    "import seaborn\n",
    "import matplotlib.pyplot as plt"
   ]
  },
  {
   "cell_type": "code",
   "execution_count": 2,
   "metadata": {},
   "outputs": [
    {
     "data": {
      "text/html": [
       "<div>\n",
       "<style scoped>\n",
       "    .dataframe tbody tr th:only-of-type {\n",
       "        vertical-align: middle;\n",
       "    }\n",
       "\n",
       "    .dataframe tbody tr th {\n",
       "        vertical-align: top;\n",
       "    }\n",
       "\n",
       "    .dataframe thead th {\n",
       "        text-align: right;\n",
       "    }\n",
       "</style>\n",
       "<table border=\"1\" class=\"dataframe\">\n",
       "  <thead>\n",
       "    <tr style=\"text-align: right;\">\n",
       "      <th></th>\n",
       "      <th>total_images</th>\n",
       "      <th>last_price</th>\n",
       "      <th>total_area</th>\n",
       "      <th>first_day_exposition</th>\n",
       "      <th>rooms</th>\n",
       "      <th>ceiling_height</th>\n",
       "      <th>floors_total</th>\n",
       "      <th>living_area</th>\n",
       "      <th>floor</th>\n",
       "      <th>is_apartment</th>\n",
       "      <th>...</th>\n",
       "      <th>kitchen_area</th>\n",
       "      <th>balcony</th>\n",
       "      <th>locality_name</th>\n",
       "      <th>airports_nearest</th>\n",
       "      <th>cityCenters_nearest</th>\n",
       "      <th>parks_around3000</th>\n",
       "      <th>parks_nearest</th>\n",
       "      <th>ponds_around3000</th>\n",
       "      <th>ponds_nearest</th>\n",
       "      <th>days_exposition</th>\n",
       "    </tr>\n",
       "  </thead>\n",
       "  <tbody>\n",
       "    <tr>\n",
       "      <th>0</th>\n",
       "      <td>20</td>\n",
       "      <td>13000000.0</td>\n",
       "      <td>108.0</td>\n",
       "      <td>2019-03-07T00:00:00</td>\n",
       "      <td>3</td>\n",
       "      <td>2.70</td>\n",
       "      <td>16.0</td>\n",
       "      <td>51.0</td>\n",
       "      <td>8</td>\n",
       "      <td>NaN</td>\n",
       "      <td>...</td>\n",
       "      <td>25.0</td>\n",
       "      <td>NaN</td>\n",
       "      <td>Санкт-Петербург</td>\n",
       "      <td>18863.0</td>\n",
       "      <td>16028.0</td>\n",
       "      <td>1.0</td>\n",
       "      <td>482.0</td>\n",
       "      <td>2.0</td>\n",
       "      <td>755.0</td>\n",
       "      <td>NaN</td>\n",
       "    </tr>\n",
       "    <tr>\n",
       "      <th>1</th>\n",
       "      <td>7</td>\n",
       "      <td>3350000.0</td>\n",
       "      <td>40.4</td>\n",
       "      <td>2018-12-04T00:00:00</td>\n",
       "      <td>1</td>\n",
       "      <td>NaN</td>\n",
       "      <td>11.0</td>\n",
       "      <td>18.6</td>\n",
       "      <td>1</td>\n",
       "      <td>NaN</td>\n",
       "      <td>...</td>\n",
       "      <td>11.0</td>\n",
       "      <td>2.0</td>\n",
       "      <td>посёлок Шушары</td>\n",
       "      <td>12817.0</td>\n",
       "      <td>18603.0</td>\n",
       "      <td>0.0</td>\n",
       "      <td>NaN</td>\n",
       "      <td>0.0</td>\n",
       "      <td>NaN</td>\n",
       "      <td>81.0</td>\n",
       "    </tr>\n",
       "    <tr>\n",
       "      <th>2</th>\n",
       "      <td>10</td>\n",
       "      <td>5196000.0</td>\n",
       "      <td>56.0</td>\n",
       "      <td>2015-08-20T00:00:00</td>\n",
       "      <td>2</td>\n",
       "      <td>NaN</td>\n",
       "      <td>5.0</td>\n",
       "      <td>34.3</td>\n",
       "      <td>4</td>\n",
       "      <td>NaN</td>\n",
       "      <td>...</td>\n",
       "      <td>8.3</td>\n",
       "      <td>0.0</td>\n",
       "      <td>Санкт-Петербург</td>\n",
       "      <td>21741.0</td>\n",
       "      <td>13933.0</td>\n",
       "      <td>1.0</td>\n",
       "      <td>90.0</td>\n",
       "      <td>2.0</td>\n",
       "      <td>574.0</td>\n",
       "      <td>558.0</td>\n",
       "    </tr>\n",
       "    <tr>\n",
       "      <th>3</th>\n",
       "      <td>0</td>\n",
       "      <td>64900000.0</td>\n",
       "      <td>159.0</td>\n",
       "      <td>2015-07-24T00:00:00</td>\n",
       "      <td>3</td>\n",
       "      <td>NaN</td>\n",
       "      <td>14.0</td>\n",
       "      <td>NaN</td>\n",
       "      <td>9</td>\n",
       "      <td>NaN</td>\n",
       "      <td>...</td>\n",
       "      <td>NaN</td>\n",
       "      <td>0.0</td>\n",
       "      <td>Санкт-Петербург</td>\n",
       "      <td>28098.0</td>\n",
       "      <td>6800.0</td>\n",
       "      <td>2.0</td>\n",
       "      <td>84.0</td>\n",
       "      <td>3.0</td>\n",
       "      <td>234.0</td>\n",
       "      <td>424.0</td>\n",
       "    </tr>\n",
       "    <tr>\n",
       "      <th>4</th>\n",
       "      <td>2</td>\n",
       "      <td>10000000.0</td>\n",
       "      <td>100.0</td>\n",
       "      <td>2018-06-19T00:00:00</td>\n",
       "      <td>2</td>\n",
       "      <td>3.03</td>\n",
       "      <td>14.0</td>\n",
       "      <td>32.0</td>\n",
       "      <td>13</td>\n",
       "      <td>NaN</td>\n",
       "      <td>...</td>\n",
       "      <td>41.0</td>\n",
       "      <td>NaN</td>\n",
       "      <td>Санкт-Петербург</td>\n",
       "      <td>31856.0</td>\n",
       "      <td>8098.0</td>\n",
       "      <td>2.0</td>\n",
       "      <td>112.0</td>\n",
       "      <td>1.0</td>\n",
       "      <td>48.0</td>\n",
       "      <td>121.0</td>\n",
       "    </tr>\n",
       "  </tbody>\n",
       "</table>\n",
       "<p>5 rows × 22 columns</p>\n",
       "</div>"
      ],
      "text/plain": [
       "   total_images  last_price  total_area first_day_exposition  rooms  \\\n",
       "0            20  13000000.0       108.0  2019-03-07T00:00:00      3   \n",
       "1             7   3350000.0        40.4  2018-12-04T00:00:00      1   \n",
       "2            10   5196000.0        56.0  2015-08-20T00:00:00      2   \n",
       "3             0  64900000.0       159.0  2015-07-24T00:00:00      3   \n",
       "4             2  10000000.0       100.0  2018-06-19T00:00:00      2   \n",
       "\n",
       "   ceiling_height  floors_total  living_area  floor is_apartment  ...  \\\n",
       "0            2.70          16.0         51.0      8          NaN  ...   \n",
       "1             NaN          11.0         18.6      1          NaN  ...   \n",
       "2             NaN           5.0         34.3      4          NaN  ...   \n",
       "3             NaN          14.0          NaN      9          NaN  ...   \n",
       "4            3.03          14.0         32.0     13          NaN  ...   \n",
       "\n",
       "   kitchen_area  balcony    locality_name  airports_nearest  \\\n",
       "0          25.0      NaN  Санкт-Петербург           18863.0   \n",
       "1          11.0      2.0   посёлок Шушары           12817.0   \n",
       "2           8.3      0.0  Санкт-Петербург           21741.0   \n",
       "3           NaN      0.0  Санкт-Петербург           28098.0   \n",
       "4          41.0      NaN  Санкт-Петербург           31856.0   \n",
       "\n",
       "  cityCenters_nearest  parks_around3000  parks_nearest  ponds_around3000  \\\n",
       "0             16028.0               1.0          482.0               2.0   \n",
       "1             18603.0               0.0            NaN               0.0   \n",
       "2             13933.0               1.0           90.0               2.0   \n",
       "3              6800.0               2.0           84.0               3.0   \n",
       "4              8098.0               2.0          112.0               1.0   \n",
       "\n",
       "   ponds_nearest  days_exposition  \n",
       "0          755.0              NaN  \n",
       "1            NaN             81.0  \n",
       "2          574.0            558.0  \n",
       "3          234.0            424.0  \n",
       "4           48.0            121.0  \n",
       "\n",
       "[5 rows x 22 columns]"
      ]
     },
     "metadata": {},
     "output_type": "display_data"
    }
   ],
   "source": [
    "data = pd.read_csv('/datasets/real_estate_data.csv', sep='\\t')\n",
    "display(data.head())"
   ]
  },
  {
   "cell_type": "code",
   "execution_count": 3,
   "metadata": {},
   "outputs": [
    {
     "name": "stdout",
     "output_type": "stream",
     "text": [
      "<class 'pandas.core.frame.DataFrame'>\n",
      "RangeIndex: 23699 entries, 0 to 23698\n",
      "Data columns (total 22 columns):\n",
      " #   Column                Non-Null Count  Dtype  \n",
      "---  ------                --------------  -----  \n",
      " 0   total_images          23699 non-null  int64  \n",
      " 1   last_price            23699 non-null  float64\n",
      " 2   total_area            23699 non-null  float64\n",
      " 3   first_day_exposition  23699 non-null  object \n",
      " 4   rooms                 23699 non-null  int64  \n",
      " 5   ceiling_height        14504 non-null  float64\n",
      " 6   floors_total          23613 non-null  float64\n",
      " 7   living_area           21796 non-null  float64\n",
      " 8   floor                 23699 non-null  int64  \n",
      " 9   is_apartment          2775 non-null   object \n",
      " 10  studio                23699 non-null  bool   \n",
      " 11  open_plan             23699 non-null  bool   \n",
      " 12  kitchen_area          21421 non-null  float64\n",
      " 13  balcony               12180 non-null  float64\n",
      " 14  locality_name         23650 non-null  object \n",
      " 15  airports_nearest      18157 non-null  float64\n",
      " 16  cityCenters_nearest   18180 non-null  float64\n",
      " 17  parks_around3000      18181 non-null  float64\n",
      " 18  parks_nearest         8079 non-null   float64\n",
      " 19  ponds_around3000      18181 non-null  float64\n",
      " 20  ponds_nearest         9110 non-null   float64\n",
      " 21  days_exposition       20518 non-null  float64\n",
      "dtypes: bool(2), float64(14), int64(3), object(3)\n",
      "memory usage: 3.7+ MB\n"
     ]
    },
    {
     "data": {
      "text/plain": [
       "array([[<AxesSubplot:title={'center':'total_images'}>,\n",
       "        <AxesSubplot:title={'center':'last_price'}>,\n",
       "        <AxesSubplot:title={'center':'total_area'}>,\n",
       "        <AxesSubplot:title={'center':'rooms'}>],\n",
       "       [<AxesSubplot:title={'center':'ceiling_height'}>,\n",
       "        <AxesSubplot:title={'center':'floors_total'}>,\n",
       "        <AxesSubplot:title={'center':'living_area'}>,\n",
       "        <AxesSubplot:title={'center':'floor'}>],\n",
       "       [<AxesSubplot:title={'center':'kitchen_area'}>,\n",
       "        <AxesSubplot:title={'center':'balcony'}>,\n",
       "        <AxesSubplot:title={'center':'airports_nearest'}>,\n",
       "        <AxesSubplot:title={'center':'cityCenters_nearest'}>],\n",
       "       [<AxesSubplot:title={'center':'parks_around3000'}>,\n",
       "        <AxesSubplot:title={'center':'parks_nearest'}>,\n",
       "        <AxesSubplot:title={'center':'ponds_around3000'}>,\n",
       "        <AxesSubplot:title={'center':'ponds_nearest'}>],\n",
       "       [<AxesSubplot:title={'center':'days_exposition'}>, <AxesSubplot:>,\n",
       "        <AxesSubplot:>, <AxesSubplot:>]], dtype=object)"
      ]
     },
     "execution_count": 3,
     "metadata": {},
     "output_type": "execute_result"
    },
    {
     "data": {
      "image/png": "[encoded data removed]",
      "text/plain": [
       "<Figure size 1080x1440 with 20 Axes>"
      ]
     },
     "metadata": {
      "needs_background": "light"
     },
     "output_type": "display_data"
    }
   ],
   "source": [
    "data.info()\n",
    "data.hist(figsize=(15, 20))"
   ]
  },
  {
   "cell_type": "markdown",
   "metadata": {},
   "source": [
    "### Предобработка данных"
   ]
  },
  {
   "cell_type": "code",
   "execution_count": 4,
   "metadata": {},
   "outputs": [
    {
     "data": {
      "text/plain": [
       "0"
      ]
     },
     "execution_count": 4,
     "metadata": {},
     "output_type": "execute_result"
    }
   ],
   "source": [
    "data.duplicated().sum()"
   ]
  },
  {
   "cell_type": "code",
   "execution_count": 5,
   "metadata": {},
   "outputs": [
    {
     "data": {
      "text/html": [
       "<style  type=\"text/css\" >\n",
       "#T_1bd42_row0_col0,#T_1bd42_row1_col0,#T_1bd42_row2_col0,#T_1bd42_row3_col0,#T_1bd42_row4_col0,#T_1bd42_row8_col0,#T_1bd42_row10_col0,#T_1bd42_row11_col0,#T_1bd42_row14_col0{\n",
       "            background-color:  #3b4cc0;\n",
       "            color:  #f1f1f1;\n",
       "        }#T_1bd42_row5_col0{\n",
       "            background-color:  #ccd9ed;\n",
       "            color:  #000000;\n",
       "        }#T_1bd42_row6_col0{\n",
       "            background-color:  #3c4ec2;\n",
       "            color:  #f1f1f1;\n",
       "        }#T_1bd42_row7_col0{\n",
       "            background-color:  #5673e0;\n",
       "            color:  #000000;\n",
       "        }#T_1bd42_row9_col0{\n",
       "            background-color:  #b40426;\n",
       "            color:  #f1f1f1;\n",
       "        }#T_1bd42_row12_col0{\n",
       "            background-color:  #5b7ae5;\n",
       "            color:  #000000;\n",
       "        }#T_1bd42_row13_col0{\n",
       "            background-color:  #e9d5cb;\n",
       "            color:  #000000;\n",
       "        }#T_1bd42_row15_col0,#T_1bd42_row16_col0,#T_1bd42_row17_col0,#T_1bd42_row19_col0{\n",
       "            background-color:  #92b4fe;\n",
       "            color:  #000000;\n",
       "        }#T_1bd42_row18_col0{\n",
       "            background-color:  #f49a7b;\n",
       "            color:  #000000;\n",
       "        }#T_1bd42_row20_col0{\n",
       "            background-color:  #f7ad90;\n",
       "            color:  #000000;\n",
       "        }#T_1bd42_row21_col0{\n",
       "            background-color:  #6a8bef;\n",
       "            color:  #000000;\n",
       "        }</style><table id=\"T_1bd42_\" ><thead>    <tr>        <th class=\"blank level0\" ></th>        <th class=\"col_heading level0 col0\" >0</th>    </tr></thead><tbody>\n",
       "                <tr>\n",
       "                        <th id=\"T_1bd42_level0_row0\" class=\"row_heading level0 row0\" >total_images</th>\n",
       "                        <td id=\"T_1bd42_row0_col0\" class=\"data row0 col0\" >0.000000</td>\n",
       "            </tr>\n",
       "            <tr>\n",
       "                        <th id=\"T_1bd42_level0_row1\" class=\"row_heading level0 row1\" >last_price</th>\n",
       "                        <td id=\"T_1bd42_row1_col0\" class=\"data row1 col0\" >0.000000</td>\n",
       "            </tr>\n",
       "            <tr>\n",
       "                        <th id=\"T_1bd42_level0_row2\" class=\"row_heading level0 row2\" >total_area</th>\n",
       "                        <td id=\"T_1bd42_row2_col0\" class=\"data row2 col0\" >0.000000</td>\n",
       "            </tr>\n",
       "            <tr>\n",
       "                        <th id=\"T_1bd42_level0_row3\" class=\"row_heading level0 row3\" >first_day_exposition</th>\n",
       "                        <td id=\"T_1bd42_row3_col0\" class=\"data row3 col0\" >0.000000</td>\n",
       "            </tr>\n",
       "            <tr>\n",
       "                        <th id=\"T_1bd42_level0_row4\" class=\"row_heading level0 row4\" >rooms</th>\n",
       "                        <td id=\"T_1bd42_row4_col0\" class=\"data row4 col0\" >0.000000</td>\n",
       "            </tr>\n",
       "            <tr>\n",
       "                        <th id=\"T_1bd42_level0_row5\" class=\"row_heading level0 row5\" >ceiling_height</th>\n",
       "                        <td id=\"T_1bd42_row5_col0\" class=\"data row5 col0\" >38.800000</td>\n",
       "            </tr>\n",
       "            <tr>\n",
       "                        <th id=\"T_1bd42_level0_row6\" class=\"row_heading level0 row6\" >floors_total</th>\n",
       "                        <td id=\"T_1bd42_row6_col0\" class=\"data row6 col0\" >0.400000</td>\n",
       "            </tr>\n",
       "            <tr>\n",
       "                        <th id=\"T_1bd42_level0_row7\" class=\"row_heading level0 row7\" >living_area</th>\n",
       "                        <td id=\"T_1bd42_row7_col0\" class=\"data row7 col0\" >8.000000</td>\n",
       "            </tr>\n",
       "            <tr>\n",
       "                        <th id=\"T_1bd42_level0_row8\" class=\"row_heading level0 row8\" >floor</th>\n",
       "                        <td id=\"T_1bd42_row8_col0\" class=\"data row8 col0\" >0.000000</td>\n",
       "            </tr>\n",
       "            <tr>\n",
       "                        <th id=\"T_1bd42_level0_row9\" class=\"row_heading level0 row9\" >is_apartment</th>\n",
       "                        <td id=\"T_1bd42_row9_col0\" class=\"data row9 col0\" >88.300000</td>\n",
       "            </tr>\n",
       "            <tr>\n",
       "                        <th id=\"T_1bd42_level0_row10\" class=\"row_heading level0 row10\" >studio</th>\n",
       "                        <td id=\"T_1bd42_row10_col0\" class=\"data row10 col0\" >0.000000</td>\n",
       "            </tr>\n",
       "            <tr>\n",
       "                        <th id=\"T_1bd42_level0_row11\" class=\"row_heading level0 row11\" >open_plan</th>\n",
       "                        <td id=\"T_1bd42_row11_col0\" class=\"data row11 col0\" >0.000000</td>\n",
       "            </tr>\n",
       "            <tr>\n",
       "                        <th id=\"T_1bd42_level0_row12\" class=\"row_heading level0 row12\" >kitchen_area</th>\n",
       "                        <td id=\"T_1bd42_row12_col0\" class=\"data row12 col0\" >9.600000</td>\n",
       "            </tr>\n",
       "            <tr>\n",
       "                        <th id=\"T_1bd42_level0_row13\" class=\"row_heading level0 row13\" >balcony</th>\n",
       "                        <td id=\"T_1bd42_row13_col0\" class=\"data row13 col0\" >48.600000</td>\n",
       "            </tr>\n",
       "            <tr>\n",
       "                        <th id=\"T_1bd42_level0_row14\" class=\"row_heading level0 row14\" >locality_name</th>\n",
       "                        <td id=\"T_1bd42_row14_col0\" class=\"data row14 col0\" >0.200000</td>\n",
       "            </tr>\n",
       "            <tr>\n",
       "                        <th id=\"T_1bd42_level0_row15\" class=\"row_heading level0 row15\" >airports_nearest</th>\n",
       "                        <td id=\"T_1bd42_row15_col0\" class=\"data row15 col0\" >23.400000</td>\n",
       "            </tr>\n",
       "            <tr>\n",
       "                        <th id=\"T_1bd42_level0_row16\" class=\"row_heading level0 row16\" >cityCenters_nearest</th>\n",
       "                        <td id=\"T_1bd42_row16_col0\" class=\"data row16 col0\" >23.300000</td>\n",
       "            </tr>\n",
       "            <tr>\n",
       "                        <th id=\"T_1bd42_level0_row17\" class=\"row_heading level0 row17\" >parks_around3000</th>\n",
       "                        <td id=\"T_1bd42_row17_col0\" class=\"data row17 col0\" >23.300000</td>\n",
       "            </tr>\n",
       "            <tr>\n",
       "                        <th id=\"T_1bd42_level0_row18\" class=\"row_heading level0 row18\" >parks_nearest</th>\n",
       "                        <td id=\"T_1bd42_row18_col0\" class=\"data row18 col0\" >65.900000</td>\n",
       "            </tr>\n",
       "            <tr>\n",
       "                        <th id=\"T_1bd42_level0_row19\" class=\"row_heading level0 row19\" >ponds_around3000</th>\n",
       "                        <td id=\"T_1bd42_row19_col0\" class=\"data row19 col0\" >23.300000</td>\n",
       "            </tr>\n",
       "            <tr>\n",
       "                        <th id=\"T_1bd42_level0_row20\" class=\"row_heading level0 row20\" >ponds_nearest</th>\n",
       "                        <td id=\"T_1bd42_row20_col0\" class=\"data row20 col0\" >61.600000</td>\n",
       "            </tr>\n",
       "            <tr>\n",
       "                        <th id=\"T_1bd42_level0_row21\" class=\"row_heading level0 row21\" >days_exposition</th>\n",
       "                        <td id=\"T_1bd42_row21_col0\" class=\"data row21 col0\" >13.400000</td>\n",
       "            </tr>\n",
       "    </tbody></table>"
      ],
      "text/plain": [
       "<pandas.io.formats.style.Styler at 0x7fa6f664e490>"
      ]
     },
     "execution_count": 5,
     "metadata": {},
     "output_type": "execute_result"
    }
   ],
   "source": [
    "pd.DataFrame(round(data.isna().mean()*100,1)).style.background_gradient('coolwarm')"
   ]
  },
  {
   "cell_type": "code",
   "execution_count": 6,
   "metadata": {},
   "outputs": [],
   "source": [
    "data['balcony'] = data['balcony'].fillna(0).astype('int')"
   ]
  },
  {
   "cell_type": "code",
   "execution_count": 7,
   "metadata": {},
   "outputs": [],
   "source": [
    "data['parks_around3000'] = data['parks_around3000'].fillna(0).astype(int)"
   ]
  },
  {
   "cell_type": "code",
   "execution_count": 8,
   "metadata": {},
   "outputs": [],
   "source": [
    "data['ponds_around3000'] = data['ponds_around3000'].fillna(0).astype(int)"
   ]
  },
  {
   "cell_type": "markdown",
   "metadata": {},
   "source": [
    "Количество балконов в квартире, парков и прудов рядом изменено на целое, т.к. это неделимые объекты, соответственно, не нужны дробные значения."
   ]
  },
  {
   "cell_type": "code",
   "execution_count": 9,
   "metadata": {},
   "outputs": [],
   "source": [
    "data['is_apartment'] = data['is_apartment'].fillna(False)"
   ]
  },
  {
   "cell_type": "code",
   "execution_count": 10,
   "metadata": {},
   "outputs": [],
   "source": [
    "data = data.dropna(subset=['locality_name'])"
   ]
  },
  {
   "cell_type": "code",
   "execution_count": 11,
   "metadata": {
    "scrolled": true
   },
   "outputs": [],
   "source": [
    "data = data.dropna(subset=['floors_total'])"
   ]
  },
  {
   "cell_type": "code",
   "execution_count": 12,
   "metadata": {},
   "outputs": [],
   "source": [
    "data['first_day_exposition'] = pd.to_datetime(data['first_day_exposition'], format = '%Y-%m-%d')"
   ]
  },
  {
   "cell_type": "code",
   "execution_count": 13,
   "metadata": {
    "scrolled": true
   },
   "outputs": [
    {
     "data": {
      "text/plain": [
       "array(['Бокситогорск', 'Волосово', 'Волхов', 'Всеволожск', 'Выборг',\n",
       "       'Высоцк', 'Гатчина', 'Зеленогорск', 'Ивангород', 'Каменногорск',\n",
       "       'Кингисепп', 'Кириши', 'Кировск', 'Колпино', 'Коммунар',\n",
       "       'Красное Село', 'Кронштадт', 'Кудрово', 'Лодейное Поле',\n",
       "       'Ломоносов', 'Луга', 'Любань', 'Мурино', 'Никольское',\n",
       "       'Новая Ладога', 'Отрадное', 'Павловск', 'Петергоф', 'Пикалёво',\n",
       "       'Подпорожье', 'Приморск', 'Приозерск', 'Пушкин', 'Санкт-Петербург',\n",
       "       'Светогорск', 'Сертолово', 'Сестрорецк', 'Сланцы', 'Сосновый Бор',\n",
       "       'Сясьстрой', 'Тихвин', 'Тосно', 'Шлиссельбург',\n",
       "       'городской поселок Большая Ижора', 'городской поселок Янино-1',\n",
       "       'городской посёлок Будогощь', 'городской посёлок Виллози',\n",
       "       'городской посёлок Лесогорский', 'городской посёлок Мга',\n",
       "       'городской посёлок Назия', 'городской посёлок Новоселье',\n",
       "       'городской посёлок Павлово', 'городской посёлок Рощино',\n",
       "       'городской посёлок Свирьстрой', 'городской посёлок Советский',\n",
       "       'городской посёлок Фёдоровское', 'городской посёлок Янино-1',\n",
       "       'деревня Агалатово', 'деревня Аро', 'деревня Батово',\n",
       "       'деревня Бегуницы', 'деревня Белогорка', 'деревня Большая Вруда',\n",
       "       'деревня Большая Пустомержа', 'деревня Большие Колпаны',\n",
       "       'деревня Большое Рейзино', 'деревня Большой Сабск', 'деревня Бор',\n",
       "       'деревня Борисова Грива', 'деревня Ваганово', 'деревня Вартемяги',\n",
       "       'деревня Вахнова Кара', 'деревня Выскатка', 'деревня Гарболово',\n",
       "       'деревня Глинка', 'деревня Горбунки', 'деревня Гостилицы',\n",
       "       'деревня Заклинье', 'деревня Заневка', 'деревня Зимитицы',\n",
       "       'деревня Извара', 'деревня Иссад', 'деревня Калитино',\n",
       "       'деревня Кальтино', 'деревня Камышовка', 'деревня Каськово',\n",
       "       'деревня Келози', 'деревня Кипень', 'деревня Кисельня',\n",
       "       'деревня Колтуши', 'деревня Коркино', 'деревня Котлы',\n",
       "       'деревня Кривко', 'деревня Кудрово', 'деревня Кузьмолово',\n",
       "       'деревня Курковицы', 'деревня Куровицы', 'деревня Куттузи',\n",
       "       'деревня Лаврики', 'деревня Лаголово', 'деревня Лампово',\n",
       "       'деревня Лесколово', 'деревня Лопухинка', 'деревня Лупполово',\n",
       "       'деревня Малая Романовка', 'деревня Малое Верево',\n",
       "       'деревня Малое Карлино', 'деревня Малые Колпаны',\n",
       "       'деревня Мануйлово', 'деревня Меньково', 'деревня Мины',\n",
       "       'деревня Мистолово', 'деревня Ненимяки', 'деревня Нижние Осельки',\n",
       "       'деревня Нижняя', 'деревня Низино', 'деревня Новое Девяткино',\n",
       "       'деревня Новолисино', 'деревня Нурма', 'деревня Оржицы',\n",
       "       'деревня Парицы', 'деревня Пельгора', 'деревня Пеники',\n",
       "       'деревня Пижма', 'деревня Пикколово', 'деревня Пудомяги',\n",
       "       'деревня Пустынка', 'деревня Пчева', 'деревня Рабитицы',\n",
       "       'деревня Разбегаево', 'деревня Раздолье', 'деревня Разметелево',\n",
       "       'деревня Рапполово', 'деревня Реброво', 'деревня Русско',\n",
       "       'деревня Сижно', 'деревня Снегирёвка', 'деревня Старая',\n",
       "       'деревня Старая Пустошь', 'деревня Старое Хинколово',\n",
       "       'деревня Старополье', 'деревня Старосиверская',\n",
       "       'деревня Старые Бегуницы', 'деревня Суоранда',\n",
       "       'деревня Сяськелево', 'деревня Тарасово', 'деревня Терпилицы',\n",
       "       'деревня Тихковицы', 'деревня Тойворово', 'деревня Торосово',\n",
       "       'деревня Торошковичи', 'деревня Трубников Бор',\n",
       "       'деревня Фалилеево', 'деревня Фёдоровское', 'деревня Хапо-Ое',\n",
       "       'деревня Хязельки', 'деревня Чудской Бор', 'деревня Шпаньково',\n",
       "       'деревня Щеглово', 'деревня Юкки', 'деревня Ялгино',\n",
       "       'деревня Яльгелево', 'деревня Ям-Тесово',\n",
       "       'коттеджный поселок Кивеннапа Север', 'коттеджный поселок Счастье',\n",
       "       'коттеджный посёлок Лесное', 'поселок Аннино', 'поселок Барышево',\n",
       "       'поселок Бугры', 'поселок Возрождение', 'поселок Войсковицы',\n",
       "       'поселок Володарское', 'поселок Гаврилово', 'поселок Гарболово',\n",
       "       'поселок Гладкое', 'поселок Глажево', 'поселок Глебычево',\n",
       "       'поселок Гончарово', 'поселок Громово', 'поселок Дружноселье',\n",
       "       'поселок Елизаветино', 'поселок Жилгородок', 'поселок Жилпосёлок',\n",
       "       'поселок Житково', 'поселок Заводской', 'поселок Запорожское',\n",
       "       'поселок Зимитицы', 'поселок Ильичёво', 'поселок Калитино',\n",
       "       'поселок Каложицы', 'поселок Кингисеппский', 'поселок Кирпичное',\n",
       "       'поселок Кобралово', 'поселок Кобринское', 'поселок Коммунары',\n",
       "       'поселок Коробицыно', 'поселок Котельский',\n",
       "       'поселок Красная Долина', 'поселок Красносельское',\n",
       "       'поселок Лесное', 'поселок Лисий Нос', 'поселок Лукаши',\n",
       "       'поселок Любань', 'поселок Мельниково', 'поселок Мичуринское',\n",
       "       'поселок Молодцово', 'поселок Мурино', 'поселок Новый Свет',\n",
       "       'поселок Новый Учхоз', 'поселок Оредеж',\n",
       "       'поселок Пансионат Зелёный Бор', 'поселок Первомайское',\n",
       "       'поселок Перово', 'поселок Петровское', 'поселок Победа',\n",
       "       'поселок Поляны', 'поселок Почап', 'поселок Починок',\n",
       "       'поселок Пушное', 'поселок Пчевжа', 'поселок Рабитицы',\n",
       "       'поселок Романовка', 'поселок Ромашки', 'поселок Рябово',\n",
       "       'поселок Севастьяново', 'поселок Селезнёво', 'поселок Сельцо',\n",
       "       'поселок Семиозерье', 'поселок Семрино', 'поселок Серебрянский',\n",
       "       'поселок Совхозный', 'поселок Старая Малукса',\n",
       "       'поселок Стеклянный', 'поселок Сумино', 'поселок Суходолье',\n",
       "       'поселок Тельмана', 'поселок Терволово', 'поселок Торковичи',\n",
       "       'поселок Тёсово-4', 'поселок Углово', 'поселок Усть-Луга',\n",
       "       'поселок Ушаки', 'поселок Цвелодубово', 'поселок Цвылёво',\n",
       "       'поселок городского типа Большая Ижора',\n",
       "       'поселок городского типа Вырица',\n",
       "       'поселок городского типа Дружная Горка',\n",
       "       'поселок городского типа Дубровка',\n",
       "       'поселок городского типа Ефимовский',\n",
       "       'поселок городского типа Кондратьево',\n",
       "       'поселок городского типа Красный Бор',\n",
       "       'поселок городского типа Кузьмоловский',\n",
       "       'поселок городского типа Лебяжье',\n",
       "       'поселок городского типа Лесогорский',\n",
       "       'поселок городского типа Назия',\n",
       "       'поселок городского типа Никольский',\n",
       "       'поселок городского типа Приладожский',\n",
       "       'поселок городского типа Рахья', 'поселок городского типа Рощино',\n",
       "       'поселок городского типа Рябово',\n",
       "       'поселок городского типа Синявино',\n",
       "       'поселок городского типа Советский',\n",
       "       'поселок городского типа Токсово',\n",
       "       'поселок городского типа Форносово',\n",
       "       'поселок городского типа имени Свердлова',\n",
       "       'поселок станции Вещево', 'поселок станции Корнево',\n",
       "       'поселок станции Лужайка', 'поселок станции Приветнинское',\n",
       "       'посёлок Александровская', 'посёлок Алексеевка', 'посёлок Аннино',\n",
       "       'посёлок Белоостров', 'посёлок Бугры', 'посёлок Возрождение',\n",
       "       'посёлок Войскорово', 'посёлок Высокоключевой',\n",
       "       'посёлок Гаврилово', 'посёлок Дзержинского', 'посёлок Жилгородок',\n",
       "       'посёлок Ильичёво', 'посёлок Кикерино', 'посёлок Кобралово',\n",
       "       'посёлок Коробицыно', 'посёлок Левашово', 'посёлок Ленинское',\n",
       "       'посёлок Лисий Нос', 'посёлок Мельниково', 'посёлок Металлострой',\n",
       "       'посёлок Мичуринское', 'посёлок Молодёжное', 'посёлок Мурино',\n",
       "       'посёлок Мыза-Ивановка', 'посёлок Новогорелово',\n",
       "       'посёлок Новый Свет', 'посёлок Пансионат Зелёный Бор',\n",
       "       'посёлок Парголово', 'посёлок Перово', 'посёлок Песочный',\n",
       "       'посёлок Петро-Славянка', 'посёлок Петровское',\n",
       "       'посёлок Платформа 69-й километр', 'посёлок Плодовое',\n",
       "       'посёлок Плоское', 'посёлок Победа', 'посёлок Поляны',\n",
       "       'посёлок Понтонный', 'посёлок Пригородный', 'посёлок Пудость',\n",
       "       'посёлок Репино', 'посёлок Ропша', 'посёлок Сапёрное',\n",
       "       'посёлок Сапёрный', 'посёлок Сосново', 'посёлок Старая Малукса',\n",
       "       'посёлок Стеклянный', 'посёлок Стрельна', 'посёлок Суйда',\n",
       "       'посёлок Сумино', 'посёлок Тельмана', 'посёлок Терволово',\n",
       "       'посёлок Торфяное', 'посёлок Усть-Ижора', 'посёлок Усть-Луга',\n",
       "       'посёлок Форт Красная Горка', 'посёлок Шугозеро', 'посёлок Шушары',\n",
       "       'посёлок Щеглово', 'посёлок городского типа Важины',\n",
       "       'посёлок городского типа Вознесенье',\n",
       "       'посёлок городского типа Вырица',\n",
       "       'посёлок городского типа Красный Бор',\n",
       "       'посёлок городского типа Кузнечное',\n",
       "       'посёлок городского типа Кузьмоловский',\n",
       "       'посёлок городского типа Лебяжье', 'посёлок городского типа Мга',\n",
       "       'посёлок городского типа Павлово',\n",
       "       'посёлок городского типа Рощино', 'посёлок городского типа Рябово',\n",
       "       'посёлок городского типа Сиверский',\n",
       "       'посёлок городского типа Тайцы', 'посёлок городского типа Токсово',\n",
       "       'посёлок городского типа Ульяновка',\n",
       "       'посёлок городского типа Форносово',\n",
       "       'посёлок городского типа имени Морозова',\n",
       "       'посёлок городского типа имени Свердлова',\n",
       "       'посёлок при железнодорожной станции Вещево',\n",
       "       'посёлок при железнодорожной станции Приветнинское',\n",
       "       'посёлок станции Громово', 'посёлок станции Свирь',\n",
       "       'садоводческое некоммерческое товарищество Лесная Поляна',\n",
       "       'садовое товарищество Новая Ропша',\n",
       "       'садовое товарищество Приладожский', 'садовое товарищество Рахья',\n",
       "       'садовое товарищество Садко', 'село Копорье', 'село Никольское',\n",
       "       'село Павлово', 'село Паша', 'село Путилово', 'село Рождествено',\n",
       "       'село Русско-Высоцкое', 'село Старая Ладога', 'село Шум'],\n",
       "      dtype=object)"
      ]
     },
     "execution_count": 13,
     "metadata": {},
     "output_type": "execute_result"
    }
   ],
   "source": [
    "data['locality_name'].sort_values().unique()"
   ]
  },
  {
   "cell_type": "code",
   "execution_count": 14,
   "metadata": {},
   "outputs": [
    {
     "data": {
      "text/plain": [
       "364"
      ]
     },
     "execution_count": 14,
     "metadata": {},
     "output_type": "execute_result"
    }
   ],
   "source": [
    "len(data['locality_name'].unique())"
   ]
  },
  {
   "cell_type": "code",
   "execution_count": 15,
   "metadata": {},
   "outputs": [],
   "source": [
    "data['locality_name'] = data['locality_name'].replace(['Ё', 'ё'], ['Е', 'е'], regex=True)\n",
    "data.loc[data['locality_name'] == 'поселок городского типа Рябово', 'locality_name'] = 'поселок Рябово'\n",
    "data.loc[data['locality_name'] == 'Никольское', 'locality_name'] = 'село Никольское'\n",
    "data.loc[data['locality_name'] == 'Мурино', 'locality_name'] = 'поселок Мурино'"
   ]
  },
  {
   "cell_type": "code",
   "execution_count": 16,
   "metadata": {},
   "outputs": [
    {
     "data": {
      "text/plain": [
       "327"
      ]
     },
     "execution_count": 16,
     "metadata": {},
     "output_type": "execute_result"
    }
   ],
   "source": [
    "len(data['locality_name'].unique())"
   ]
  },
  {
   "cell_type": "code",
   "execution_count": 17,
   "metadata": {},
   "outputs": [
    {
     "data": {
      "text/plain": [
       "27.0     8\n",
       "25.0     7\n",
       "32.0     2\n",
       "14.0     1\n",
       "20.0     1\n",
       "24.0     1\n",
       "27.5     1\n",
       "10.3     1\n",
       "22.6     1\n",
       "26.0     1\n",
       "100.0    1\n",
       "Name: ceiling_height, dtype: int64"
      ]
     },
     "execution_count": 17,
     "metadata": {},
     "output_type": "execute_result"
    }
   ],
   "source": [
    "data_ceilings = data.loc[data['ceiling_height'] >= 10]\n",
    "data_ceilings['ceiling_height'].value_counts()"
   ]
  },
  {
   "cell_type": "code",
   "execution_count": 18,
   "metadata": {},
   "outputs": [],
   "source": [
    "data.loc[data['ceiling_height'] == 27.0, 'ceiling_height'] = 2.7\n",
    "data.loc[data['ceiling_height'] == 25.0, 'ceiling_height'] = 2.5\n",
    "data.loc[data['ceiling_height'] == 27.5, 'ceiling_height'] = 2.75\n",
    "data.loc[data['ceiling_height'] == 32.0, 'ceiling_height'] = 3.2\n",
    "data.loc[data['ceiling_height'] == 26.0, 'ceiling_height'] = 2.6\n",
    "data.loc[data['ceiling_height'] == 24.0, 'ceiling_height'] = 2.4\n",
    "data.loc[data['ceiling_height'] == 22.6, 'ceiling_height'] = 2.26\n",
    "data.loc[data['ceiling_height'] == 20.0, 'ceiling_height'] = 2.0\n",
    "data = data[~data['ceiling_height'].isin((100.0, 10.3, 14.0))]"
   ]
  },
  {
   "cell_type": "code",
   "execution_count": 19,
   "metadata": {},
   "outputs": [
    {
     "data": {
      "text/plain": [
       "8.0    3\n",
       "5.3    2\n",
       "5.0    1\n",
       "5.8    1\n",
       "6.0    1\n",
       "8.3    1\n",
       "5.2    1\n",
       "5.5    1\n",
       "5.6    1\n",
       "Name: ceiling_height, dtype: int64"
      ]
     },
     "execution_count": 19,
     "metadata": {},
     "output_type": "execute_result"
    }
   ],
   "source": [
    "data_ceilings = data.loc[data['ceiling_height'] >= 5]\n",
    "data_ceilings['ceiling_height'].value_counts()"
   ]
  },
  {
   "cell_type": "code",
   "execution_count": 20,
   "metadata": {},
   "outputs": [
    {
     "data": {
      "text/plain": [
       "1.0    1\n",
       "1.2    1\n",
       "Name: ceiling_height, dtype: int64"
      ]
     },
     "execution_count": 20,
     "metadata": {},
     "output_type": "execute_result"
    }
   ],
   "source": [
    "data_ceilings = data.loc[data['ceiling_height'] <= 1.6]\n",
    "data_ceilings['ceiling_height'].value_counts()"
   ]
  },
  {
   "cell_type": "code",
   "execution_count": 21,
   "metadata": {},
   "outputs": [],
   "source": [
    "data = data[~data['ceiling_height'].isin((1.0, 1.2))]"
   ]
  },
  {
   "cell_type": "code",
   "execution_count": 22,
   "metadata": {},
   "outputs": [],
   "source": [
    "median_ceilings = data.groupby('floors_total')['ceiling_height'].transform('median')\n",
    "data['ceiling_height'] = data['ceiling_height'].fillna(median_ceilings)"
   ]
  },
  {
   "cell_type": "code",
   "execution_count": 23,
   "metadata": {},
   "outputs": [],
   "source": [
    "median_kitchen = data.groupby('total_area')['kitchen_area'].transform('median')\n",
    "data['kitchen_area'] = data['kitchen_area'].fillna(median_kitchen)"
   ]
  },
  {
   "cell_type": "code",
   "execution_count": 24,
   "metadata": {},
   "outputs": [],
   "source": [
    "median_living_area = data.groupby('total_area')['living_area'].transform('median')\n",
    "data['living_area'] = data['living_area'].fillna(median_living_area)"
   ]
  },
  {
   "cell_type": "code",
   "execution_count": 25,
   "metadata": {},
   "outputs": [],
   "source": [
    "City_nearest = data.groupby('total_area')['living_area'].transform('median')\n",
    "data['living_area'] = data['living_area'].fillna(median_living_area)"
   ]
  },
  {
   "cell_type": "markdown",
   "metadata": {},
   "source": [
    "В столбцах, где было необходимо указать количество чего-либо (балконы, парки, пруды), принято решение считать, что, раз продавец не указал число, то объекта нет. Поэтому пропуски были заменены на нули.\n",
    "\n",
    "В столбцах с площадью пропуски взяты по средним медианным значениям, т.к., обычно, в квартирах с большей площадью и большие кухни/жилые территории.\n",
    "\n",
    "В столбце с высотой потолков изменены высоты, на порядок превышающие обычные. Единичные значения не укладывающихся ни в какую схему высот (метр или 100 метров) были откинуты.\n",
    "\n",
    "Пропуски в столбцах с локацией и общей площадью восстановлению не подлежат, и за малым процентом также откинуты."
   ]
  },
  {
   "cell_type": "markdown",
   "metadata": {},
   "source": [
    "### Посчитайте и добавьте в таблицу новые столбцы"
   ]
  },
  {
   "cell_type": "code",
   "execution_count": 26,
   "metadata": {},
   "outputs": [],
   "source": [
    "data['square_meter_price'] = data['last_price'] / data['total_area']"
   ]
  },
  {
   "cell_type": "code",
   "execution_count": 27,
   "metadata": {},
   "outputs": [],
   "source": [
    "data['exposition_weekday'] = data['first_day_exposition'].dt.weekday"
   ]
  },
  {
   "cell_type": "code",
   "execution_count": 28,
   "metadata": {},
   "outputs": [],
   "source": [
    "data['exposition_month'] = data['first_day_exposition'].dt.month"
   ]
  },
  {
   "cell_type": "code",
   "execution_count": 29,
   "metadata": {},
   "outputs": [],
   "source": [
    "data['exposition_year'] = data['first_day_exposition'].dt.year"
   ]
  },
  {
   "cell_type": "code",
   "execution_count": 30,
   "metadata": {},
   "outputs": [],
   "source": [
    "def floor_type(row):\n",
    "    floors_total = row['floors_total']\n",
    "    floor = row['floor']\n",
    "    if floor == 1:\n",
    "        return 'первый'\n",
    "    elif floor == floors_total:\n",
    "        return 'последний'\n",
    "    elif 1 < floor < floors_total:\n",
    "        return 'другой'\n",
    "data['floor_type'] = data.apply(floor_type, axis = 1)"
   ]
  },
  {
   "cell_type": "code",
   "execution_count": 31,
   "metadata": {},
   "outputs": [],
   "source": [
    "data['km_for_center'] = data['cityCenters_nearest'] / 1000\n",
    "data['km_for_center'] = data['km_for_center'].fillna(100000).astype(int)"
   ]
  },
  {
   "cell_type": "markdown",
   "metadata": {},
   "source": [
    "Пропуски в столбце расстояния до центра было решено заменить на большое значение, т.к. восстановить данные невозможно, однако слишком большое количество строк не имеет данной информации, чтобы безболезненно их удалить. Таким образом, можно будет проводить исследование с данными квартирами по другим параметрам, однако в выборку по центру города они не попадут и не исказят статистику"
   ]
  },
  {
   "cell_type": "markdown",
   "metadata": {},
   "source": [
    "### Проведите исследовательский анализ данных"
   ]
  },
  {
   "cell_type": "code",
   "execution_count": 32,
   "metadata": {},
   "outputs": [
    {
     "data": {
      "text/plain": [
       "count    23560.000000\n",
       "mean        60.326110\n",
       "std         35.659752\n",
       "min         12.000000\n",
       "25%         40.000000\n",
       "50%         52.000000\n",
       "75%         69.700000\n",
       "max        900.000000\n",
       "Name: total_area, dtype: float64"
      ]
     },
     "execution_count": 32,
     "metadata": {},
     "output_type": "execute_result"
    },
    {
     "data": {
      "image/png": "[encoded data removed]",
      "text/plain": [
       "<Figure size 360x216 with 1 Axes>"
      ]
     },
     "metadata": {
      "needs_background": "light"
     },
     "output_type": "display_data"
    }
   ],
   "source": [
    "data.plot(y = 'total_area', kind = 'hist', bins = 100, grid=True, figsize = (5,3), range = (0,200))\n",
    "data['total_area'].describe()"
   ]
  },
  {
   "cell_type": "markdown",
   "metadata": {},
   "source": [
    "**общая площадь**\n",
    "\n",
    "Большинство квартир имеет площадь около 50 квадратных метров, площадь более 100 квадратных метров практически не встречается.\n"
   ]
  },
  {
   "cell_type": "code",
   "execution_count": 33,
   "metadata": {},
   "outputs": [
    {
     "data": {
      "text/plain": [
       "count    23375.000000\n",
       "mean        10.450891\n",
       "std          5.781319\n",
       "min          1.300000\n",
       "25%          7.000000\n",
       "50%          9.000000\n",
       "75%         11.800000\n",
       "max        112.000000\n",
       "Name: kitchen_area, dtype: float64"
      ]
     },
     "execution_count": 33,
     "metadata": {},
     "output_type": "execute_result"
    },
    {
     "data": {
      "image/png": "[encoded data removed]",
      "text/plain": [
       "<Figure size 432x288 with 1 Axes>"
      ]
     },
     "metadata": {
      "needs_background": "light"
     },
     "output_type": "display_data"
    }
   ],
   "source": [
    "data.plot(y = 'kitchen_area', kind = 'hist', bins = 100, grid=True, range = (0,50))\n",
    "data['kitchen_area'].describe()"
   ]
  },
  {
   "cell_type": "markdown",
   "metadata": {},
   "source": [
    "**площадь кухни**\n",
    "\n",
    "Наиболее распространены кухни до 10 квадратных метров. Больше 20 метров кухни практически не встречаются. Больше 30 - единичные случаи.\n"
   ]
  },
  {
   "cell_type": "code",
   "execution_count": 34,
   "metadata": {},
   "outputs": [
    {
     "data": {
      "text/plain": [
       "count    23427.000000\n",
       "mean        34.466383\n",
       "std         21.855006\n",
       "min          2.000000\n",
       "25%         18.600000\n",
       "50%         30.000000\n",
       "75%         42.300000\n",
       "max        409.700000\n",
       "Name: living_area, dtype: float64"
      ]
     },
     "execution_count": 34,
     "metadata": {},
     "output_type": "execute_result"
    },
    {
     "data": {
      "image/png": "[encoded data removed]",
      "text/plain": [
       "<Figure size 360x216 with 1 Axes>"
      ]
     },
     "metadata": {
      "needs_background": "light"
     },
     "output_type": "display_data"
    }
   ],
   "source": [
    "data.plot(y = 'living_area', kind = 'hist', bins = 100, grid=True, figsize = (5,3), range = (0,100))\n",
    "data['living_area'].describe()"
   ]
  },
  {
   "cell_type": "markdown",
   "metadata": {},
   "source": [
    "**жилая площадь**\n",
    "\n",
    "Самые распространённые варианты с жилой площадью примерно в 20, 30 и 45 метров. Подавляющая масса предложений имеет до 60 метров жилой площади. Несколько пиков графика вызваны, вероятно, тем, что это жилые площади для 1-комнатной, 2-комнатной и 3-комнатной квартиры."
   ]
  },
  {
   "cell_type": "code",
   "execution_count": 35,
   "metadata": {},
   "outputs": [
    {
     "data": {
      "text/plain": [
       "count    2.356000e+04\n",
       "mean     6.540029e+06\n",
       "std      1.091190e+07\n",
       "min      1.219000e+04\n",
       "25%      3.400000e+06\n",
       "50%      4.645000e+06\n",
       "75%      6.790000e+06\n",
       "max      7.630000e+08\n",
       "Name: last_price, dtype: float64"
      ]
     },
     "execution_count": 35,
     "metadata": {},
     "output_type": "execute_result"
    },
    {
     "data": {
      "image/png": "[encoded data removed]",
      "text/plain": [
       "<Figure size 360x216 with 1 Axes>"
      ]
     },
     "metadata": {
      "needs_background": "light"
     },
     "output_type": "display_data"
    }
   ],
   "source": [
    "data.plot(y = 'last_price', kind = 'hist', bins = 100, grid=True, figsize = (5,3), range = (0,10000000))\n",
    "data['last_price'].describe()"
   ]
  },
  {
   "cell_type": "markdown",
   "metadata": {},
   "source": [
    "**цена объекта**\n",
    "\n",
    "Наиболее распространённый сегмент предложений - квартиры с ценой около 4 миллионов. Однако можно наблюдать достаточно большой разброс цены как в одну, так и в другую сторону.\n"
   ]
  },
  {
   "cell_type": "code",
   "execution_count": 36,
   "metadata": {},
   "outputs": [
    {
     "data": {
      "text/plain": [
       "count    23560.000000\n",
       "mean         2.070756\n",
       "std          1.078660\n",
       "min          0.000000\n",
       "25%          1.000000\n",
       "50%          2.000000\n",
       "75%          3.000000\n",
       "max         19.000000\n",
       "Name: rooms, dtype: float64"
      ]
     },
     "execution_count": 36,
     "metadata": {},
     "output_type": "execute_result"
    },
    {
     "data": {
      "image/png": "[encoded data removed]",
      "text/plain": [
       "<Figure size 432x288 with 1 Axes>"
      ]
     },
     "metadata": {
      "needs_background": "light"
     },
     "output_type": "display_data"
    }
   ],
   "source": [
    "data.plot(y = 'rooms', kind = 'hist', bins = 10, grid=True, range = (0,10))\n",
    "data['rooms'].describe()"
   ]
  },
  {
   "cell_type": "markdown",
   "metadata": {},
   "source": [
    "**количество комнат**\n",
    "\n",
    "В основном квартиры состоят из 1, 2 и 3 комнат. Есть небольшая доля 4-комнатных квартир. Встречаются варианты и с большим количеством комнат, возможно, объединённые из двух и более квартир.\n"
   ]
  },
  {
   "cell_type": "code",
   "execution_count": 37,
   "metadata": {},
   "outputs": [
    {
     "data": {
      "text/plain": [
       "count    23559.000000\n",
       "mean         2.708466\n",
       "std          0.245374\n",
       "min          1.750000\n",
       "25%          2.550000\n",
       "50%          2.650000\n",
       "75%          2.750000\n",
       "max          8.300000\n",
       "Name: ceiling_height, dtype: float64"
      ]
     },
     "execution_count": 37,
     "metadata": {},
     "output_type": "execute_result"
    },
    {
     "data": {
      "image/png": "[encoded data removed]",
      "text/plain": [
       "<Figure size 432x288 with 1 Axes>"
      ]
     },
     "metadata": {
      "needs_background": "light"
     },
     "output_type": "display_data"
    }
   ],
   "source": [
    "data.plot(y = 'ceiling_height', kind = 'hist', bins = 10, grid=True, range = (1,5))\n",
    "data['ceiling_height'].describe()"
   ]
  },
  {
   "cell_type": "markdown",
   "metadata": {},
   "source": [
    "**высота потолков**\n",
    "\n",
    "Большинство вариантов имеют высоту потолков от 2,5 до 3 метров.\n"
   ]
  },
  {
   "cell_type": "code",
   "execution_count": 38,
   "metadata": {},
   "outputs": [
    {
     "data": {
      "text/plain": [
       "count    23560.000000\n",
       "mean         5.877971\n",
       "std          4.871524\n",
       "min          1.000000\n",
       "25%          2.000000\n",
       "50%          4.000000\n",
       "75%          8.000000\n",
       "max         33.000000\n",
       "Name: floor, dtype: float64"
      ]
     },
     "execution_count": 38,
     "metadata": {},
     "output_type": "execute_result"
    },
    {
     "data": {
      "image/png": "[encoded data removed]",
      "text/plain": [
       "<Figure size 360x216 with 1 Axes>"
      ]
     },
     "metadata": {
      "needs_background": "light"
     },
     "output_type": "display_data"
    }
   ],
   "source": [
    "data.plot(y = 'floor', kind = 'hist', bins = 10, grid=True, figsize = (5,3), range = (0, 30))\n",
    "data['floor'].describe()"
   ]
  },
  {
   "cell_type": "markdown",
   "metadata": {},
   "source": [
    "**этаж квартиры**\n",
    "\n",
    "Наибольший сегмент предложений - квартиры до 10 этажа, однако достаточное количество вариантов расположено выше."
   ]
  },
  {
   "cell_type": "code",
   "execution_count": 39,
   "metadata": {},
   "outputs": [
    {
     "data": {
      "text/plain": [
       "count      23560\n",
       "unique         3\n",
       "top       другой\n",
       "freq       17323\n",
       "Name: floor_type, dtype: object"
      ]
     },
     "execution_count": 39,
     "metadata": {},
     "output_type": "execute_result"
    },
    {
     "data": {
      "image/png": "[encoded data removed]",
      "text/plain": [
       "<Figure size 432x288 with 1 Axes>"
      ]
     },
     "metadata": {
      "needs_background": "light"
     },
     "output_type": "display_data"
    }
   ],
   "source": [
    "pd.Series(data['floor_type']).hist()  \n",
    "data['floor_type'].describe()"
   ]
  },
  {
   "cell_type": "markdown",
   "metadata": {},
   "source": [
    "**тип этажа квартиры («первый», «последний», «другой»)**\n",
    "\n",
    "В плане этажности преобладают квартиры не первого и последнего этажей, что вполне закономерно.\n"
   ]
  },
  {
   "cell_type": "code",
   "execution_count": 40,
   "metadata": {},
   "outputs": [
    {
     "data": {
      "text/plain": [
       "count    23560.000000\n",
       "mean        10.676061\n",
       "std          6.595045\n",
       "min          1.000000\n",
       "25%          5.000000\n",
       "50%          9.000000\n",
       "75%         16.000000\n",
       "max         60.000000\n",
       "Name: floors_total, dtype: float64"
      ]
     },
     "execution_count": 40,
     "metadata": {},
     "output_type": "execute_result"
    },
    {
     "data": {
      "image/png": "[encoded data removed]",
      "text/plain": [
       "<Figure size 360x216 with 1 Axes>"
      ]
     },
     "metadata": {
      "needs_background": "light"
     },
     "output_type": "display_data"
    }
   ],
   "source": [
    "data.plot(y = 'floors_total', kind = 'hist', bins = 5, grid=True, figsize = (5,3), range = (0, 50))\n",
    "data['floors_total'].describe()"
   ]
  },
  {
   "cell_type": "markdown",
   "metadata": {},
   "source": [
    "\n",
    "**общее количество этажей в доме**\n",
    "\n",
    "Преобладают строения до 10 этажей, дома выше 30 этажей встречаются крайне редко."
   ]
  },
  {
   "cell_type": "code",
   "execution_count": 41,
   "metadata": {},
   "outputs": [
    {
     "data": {
      "text/plain": [
       "count    18060.000000\n",
       "mean     14193.139147\n",
       "std       8614.172288\n",
       "min        181.000000\n",
       "25%       9238.000000\n",
       "50%      13096.500000\n",
       "75%      16285.000000\n",
       "max      65968.000000\n",
       "Name: cityCenters_nearest, dtype: float64"
      ]
     },
     "execution_count": 41,
     "metadata": {},
     "output_type": "execute_result"
    },
    {
     "data": {
      "image/png": "[encoded data removed]",
      "text/plain": [
       "<Figure size 432x288 with 1 Axes>"
      ]
     },
     "metadata": {
      "needs_background": "light"
     },
     "output_type": "display_data"
    }
   ],
   "source": [
    "data.plot(y = 'cityCenters_nearest', kind = 'hist', grid=True)\n",
    "data['cityCenters_nearest'].describe()"
   ]
  },
  {
   "cell_type": "code",
   "execution_count": 42,
   "metadata": {},
   "outputs": [
    {
     "data": {
      "text/plain": [
       "count    18037.000000\n",
       "mean     28796.861230\n",
       "std      12633.222963\n",
       "min          0.000000\n",
       "25%      18565.000000\n",
       "50%      26756.000000\n",
       "75%      37273.000000\n",
       "max      84869.000000\n",
       "Name: airports_nearest, dtype: float64"
      ]
     },
     "execution_count": 42,
     "metadata": {},
     "output_type": "execute_result"
    },
    {
     "data": {
      "image/png": "[encoded data removed]",
      "text/plain": [
       "<Figure size 432x288 with 1 Axes>"
      ]
     },
     "metadata": {
      "needs_background": "light"
     },
     "output_type": "display_data"
    }
   ],
   "source": [
    "data.plot(y = 'airports_nearest', kind = 'hist', grid=True)\n",
    "data['airports_nearest'].describe()"
   ]
  },
  {
   "cell_type": "code",
   "execution_count": 43,
   "metadata": {},
   "outputs": [
    {
     "data": {
      "text/plain": [
       "count    8027.000000\n",
       "mean      490.644699\n",
       "std       341.616139\n",
       "min         1.000000\n",
       "25%       288.000000\n",
       "50%       455.000000\n",
       "75%       612.000000\n",
       "max      3190.000000\n",
       "Name: parks_nearest, dtype: float64"
      ]
     },
     "execution_count": 43,
     "metadata": {},
     "output_type": "execute_result"
    },
    {
     "data": {
      "image/png": "[encoded data removed]",
      "text/plain": [
       "<Figure size 432x288 with 1 Axes>"
      ]
     },
     "metadata": {
      "needs_background": "light"
     },
     "output_type": "display_data"
    }
   ],
   "source": [
    "data.plot(y = 'parks_nearest', kind = 'hist', grid=True)\n",
    "data['parks_nearest'].describe()"
   ]
  },
  {
   "cell_type": "code",
   "execution_count": 44,
   "metadata": {},
   "outputs": [
    {
     "data": {
      "text/plain": [
       "count    23560.000000\n",
       "mean         6.401273\n",
       "std          3.493169\n",
       "min          1.000000\n",
       "25%          3.000000\n",
       "50%          6.000000\n",
       "75%         10.000000\n",
       "max         12.000000\n",
       "Name: exposition_month, dtype: float64"
      ]
     },
     "execution_count": 44,
     "metadata": {},
     "output_type": "execute_result"
    },
    {
     "data": {
      "image/png": "[encoded data removed]",
      "text/plain": [
       "<Figure size 432x288 with 1 Axes>"
      ]
     },
     "metadata": {
      "needs_background": "light"
     },
     "output_type": "display_data"
    }
   ],
   "source": [
    "data.plot(y = 'exposition_month', kind = 'hist', grid=True)\n",
    "data['exposition_month'].describe()"
   ]
  },
  {
   "cell_type": "code",
   "execution_count": 45,
   "metadata": {},
   "outputs": [
    {
     "data": {
      "text/plain": [
       "count    23560.000000\n",
       "mean         2.567360\n",
       "std          1.788288\n",
       "min          0.000000\n",
       "25%          1.000000\n",
       "50%          3.000000\n",
       "75%          4.000000\n",
       "max          6.000000\n",
       "Name: exposition_weekday, dtype: float64"
      ]
     },
     "execution_count": 45,
     "metadata": {},
     "output_type": "execute_result"
    },
    {
     "data": {
      "image/png": "[encoded data removed]",
      "text/plain": [
       "<Figure size 432x288 with 1 Axes>"
      ]
     },
     "metadata": {
      "needs_background": "light"
     },
     "output_type": "display_data"
    }
   ],
   "source": [
    "data.plot(y = 'exposition_weekday', kind = 'hist', grid=True)\n",
    "data['exposition_weekday'].describe()"
   ]
  },
  {
   "cell_type": "markdown",
   "metadata": {},
   "source": [
    "**день и месяц публикации объявления**\n",
    "\n",
    "Больше всего квартир выставляется в будни, доля выставленных в выходные значительно меньше. Также более насыщенные месяцы - зимние."
   ]
  },
  {
   "cell_type": "code",
   "execution_count": 46,
   "metadata": {},
   "outputs": [
    {
     "name": "stdout",
     "output_type": "stream",
     "text": [
      "Медианое время продажи: 95\n",
      "Среднее время продажи: 181\n"
     ]
    }
   ],
   "source": [
    "print('Медианое время продажи:', round(data.query('days_exposition != 9999')['days_exposition'].median()))\n",
    "print('Среднее время продажи:', round(data.query('days_exposition != 9999')['days_exposition'].mean()))"
   ]
  },
  {
   "cell_type": "code",
   "execution_count": 47,
   "metadata": {},
   "outputs": [
    {
     "data": {
      "image/png": "[encoded data removed]",
      "text/plain": [
       "<Figure size 432x288 with 1 Axes>"
      ]
     },
     "metadata": {
      "needs_background": "light"
     },
     "output_type": "display_data"
    },
    {
     "data": {
      "text/plain": [
       "45.0      879\n",
       "60.0      538\n",
       "7.0       234\n",
       "30.0      208\n",
       "90.0      200\n",
       "         ... \n",
       "969.0       1\n",
       "1147.0      1\n",
       "1.0         1\n",
       "1148.0      1\n",
       "1174.0      1\n",
       "Name: days_exposition, Length: 1139, dtype: int64"
      ]
     },
     "execution_count": 47,
     "metadata": {},
     "output_type": "execute_result"
    }
   ],
   "source": [
    "plt.hist(data.query('days_exposition != 9999')['days_exposition'], bins=100, range=(0,250))\n",
    "plt.show()\n",
    "data.query('days_exposition != 9999')['days_exposition'].describe()\n",
    "data['days_exposition'].value_counts()\n"
   ]
  },
  {
   "cell_type": "markdown",
   "metadata": {},
   "source": [
    "В основном квартиры продаются за 90 дней. Есть большое число квартир, проданных всего за несколько дней после публикации. А также есть варианты, которые продавались несколько десятков месяцев.\n",
    "\n",
    "Также Имеются пики на значениях в 45 и 60 дней. Это стандартный срок для объявлений на Яндекс Недвижимость. Логично предположить, что квартиры, проданные до первого пика - проданы быстро, тогда как проданные после третьего пика (90 дней) - медленно."
   ]
  },
  {
   "cell_type": "code",
   "execution_count": 48,
   "metadata": {},
   "outputs": [
    {
     "data": {
      "image/png": "[encoded data removed]",
      "text/plain": [
       "<Figure size 360x360 with 1 Axes>"
      ]
     },
     "metadata": {
      "needs_background": "light"
     },
     "output_type": "display_data"
    },
    {
     "name": "stdout",
     "output_type": "stream",
     "text": [
      "            last_price  total_area\n",
      "last_price    1.000000    0.739097\n",
      "total_area    0.739097    1.000000\n"
     ]
    }
   ],
   "source": [
    "(data.pivot_table(index='total_area', values='last_price').plot(grid=True, style='o', figsize=(5, 5)))\n",
    "plt.show()\n",
    "print(data.pivot_table(index='floor', values=['total_area', 'last_price']).corr())"
   ]
  },
  {
   "cell_type": "code",
   "execution_count": 49,
   "metadata": {},
   "outputs": [
    {
     "data": {
      "image/png": "[encoded data removed]",
      "text/plain": [
       "<Figure size 360x360 with 1 Axes>"
      ]
     },
     "metadata": {
      "needs_background": "light"
     },
     "output_type": "display_data"
    },
    {
     "name": "stdout",
     "output_type": "stream",
     "text": [
      "             last_price  living_area\n",
      "last_price     1.000000     0.625095\n",
      "living_area    0.625095     1.000000\n"
     ]
    }
   ],
   "source": [
    "(data.pivot_table(index='living_area', values='last_price').plot(grid=True, style='o', figsize=(5, 5)))\n",
    "plt.show()\n",
    "print(data.pivot_table(index='floor', values=['living_area', 'last_price']).corr())"
   ]
  },
  {
   "cell_type": "code",
   "execution_count": 50,
   "metadata": {},
   "outputs": [
    {
     "data": {
      "image/png": "[encoded data removed]",
      "text/plain": [
       "<Figure size 360x360 with 1 Axes>"
      ]
     },
     "metadata": {
      "needs_background": "light"
     },
     "output_type": "display_data"
    },
    {
     "name": "stdout",
     "output_type": "stream",
     "text": [
      "              kitchen_area  last_price\n",
      "kitchen_area      1.000000    0.312245\n",
      "last_price        0.312245    1.000000\n"
     ]
    }
   ],
   "source": [
    "(data.pivot_table(index='kitchen_area', values='last_price').plot(grid=True, style='o', figsize=(5, 5)))\n",
    "plt.show()\n",
    "print(data.pivot_table(index='floor', values=['kitchen_area', 'last_price']).corr())"
   ]
  },
  {
   "cell_type": "code",
   "execution_count": 51,
   "metadata": {},
   "outputs": [
    {
     "data": {
      "image/png": "[encoded data removed]",
      "text/plain": [
       "<Figure size 360x360 with 1 Axes>"
      ]
     },
     "metadata": {
      "needs_background": "light"
     },
     "output_type": "display_data"
    },
    {
     "name": "stdout",
     "output_type": "stream",
     "text": [
      "            last_price     rooms\n",
      "last_price    1.000000  0.442854\n",
      "rooms         0.442854  1.000000\n"
     ]
    }
   ],
   "source": [
    "(data.pivot_table(index='rooms', values='last_price').plot(grid=True, style='o', figsize=(5, 5)))\n",
    "plt.show()\n",
    "print(data.pivot_table(index='floor', values=['rooms', 'last_price']).corr())"
   ]
  },
  {
   "cell_type": "code",
   "execution_count": 52,
   "metadata": {},
   "outputs": [
    {
     "data": {
      "image/png": "[encoded data removed]",
      "text/plain": [
       "<Figure size 360x360 with 1 Axes>"
      ]
     },
     "metadata": {
      "needs_background": "light"
     },
     "output_type": "display_data"
    },
    {
     "name": "stdout",
     "output_type": "stream",
     "text": [
      "                 exposition_year  last_price\n",
      "exposition_year         1.000000   -0.055135\n",
      "last_price             -0.055135    1.000000\n"
     ]
    }
   ],
   "source": [
    "(data.pivot_table(index='exposition_year', values='last_price').plot(grid=True, style='o-', figsize=(5, 5)))\n",
    "plt.show()\n",
    "print(data.pivot_table(index='floor', values=['exposition_year', 'last_price']).corr())"
   ]
  },
  {
   "cell_type": "code",
   "execution_count": 53,
   "metadata": {},
   "outputs": [
    {
     "data": {
      "image/png": "[encoded data removed]",
      "text/plain": [
       "<Figure size 360x360 with 1 Axes>"
      ]
     },
     "metadata": {
      "needs_background": "light"
     },
     "output_type": "display_data"
    },
    {
     "name": "stdout",
     "output_type": "stream",
     "text": [
      "                  exposition_month  last_price\n",
      "exposition_month          1.000000   -0.020593\n",
      "last_price               -0.020593    1.000000\n"
     ]
    }
   ],
   "source": [
    "(data.pivot_table(index='exposition_month', values='last_price').plot(grid=True, style='o-', figsize=(5, 5)))\n",
    "plt.show()\n",
    "print(data.pivot_table(index='floor', values=['exposition_month', 'last_price']).corr())"
   ]
  },
  {
   "cell_type": "code",
   "execution_count": 54,
   "metadata": {},
   "outputs": [
    {
     "data": {
      "image/png": "[encoded data removed]",
      "text/plain": [
       "<Figure size 360x360 with 1 Axes>"
      ]
     },
     "metadata": {
      "needs_background": "light"
     },
     "output_type": "display_data"
    },
    {
     "name": "stdout",
     "output_type": "stream",
     "text": [
      "                    exposition_weekday  last_price\n",
      "exposition_weekday            1.000000    0.323761\n",
      "last_price                    0.323761    1.000000\n"
     ]
    }
   ],
   "source": [
    "(data.pivot_table(index='exposition_weekday', values='last_price').plot(grid=True, style='o-', figsize=(5, 5)))\n",
    "plt.show()\n",
    "print(data.pivot_table(index='floor', values=['exposition_weekday', 'last_price']).corr())"
   ]
  },
  {
   "cell_type": "code",
   "execution_count": 55,
   "metadata": {},
   "outputs": [
    {
     "data": {
      "image/png": "[encoded data removed]",
      "text/plain": [
       "<Figure size 360x360 with 1 Axes>"
      ]
     },
     "metadata": {
      "needs_background": "light"
     },
     "output_type": "display_data"
    }
   ],
   "source": [
    "(data.pivot_table(index='floor_type', values='last_price', aggfunc='median').plot(grid=True, style='o-', figsize=(5, 5)))\n",
    "plt.show()"
   ]
  },
  {
   "cell_type": "code",
   "execution_count": 56,
   "metadata": {},
   "outputs": [
    {
     "data": {
      "text/plain": [
       "Санкт-Петербург      15647\n",
       "поселок Мурино         586\n",
       "поселок Шушары         439\n",
       "Всеволожск             398\n",
       "Пушкин                 369\n",
       "Колпино                338\n",
       "поселок Парголово      327\n",
       "Гатчина                307\n",
       "деревня Кудрово        299\n",
       "Выборг                 237\n",
       "Name: locality_name, dtype: int64"
      ]
     },
     "execution_count": 56,
     "metadata": {},
     "output_type": "execute_result"
    }
   ],
   "source": [
    "data['locality_name'].value_counts().head(10)"
   ]
  },
  {
   "cell_type": "code",
   "execution_count": 57,
   "metadata": {},
   "outputs": [
    {
     "data": {
      "text/plain": [
       "114839.05156264247"
      ]
     },
     "execution_count": 57,
     "metadata": {},
     "output_type": "execute_result"
    }
   ],
   "source": [
    "Value_most_prise = data.loc[data['locality_name'] == 'Санкт-Петербург']\n",
    "Value_most_prise['square_meter_price'].mean()"
   ]
  },
  {
   "cell_type": "code",
   "execution_count": 58,
   "metadata": {},
   "outputs": [
    {
     "data": {
      "text/plain": [
       "86041.11606388402"
      ]
     },
     "execution_count": 58,
     "metadata": {},
     "output_type": "execute_result"
    }
   ],
   "source": [
    "Value_most_prise = data.loc[data['locality_name'] == 'поселок Мурино']\n",
    "Value_most_prise['square_meter_price'].mean()"
   ]
  },
  {
   "cell_type": "code",
   "execution_count": 59,
   "metadata": {},
   "outputs": [
    {
     "data": {
      "text/plain": [
       "78551.34454526326"
      ]
     },
     "execution_count": 59,
     "metadata": {},
     "output_type": "execute_result"
    }
   ],
   "source": [
    "Value_most_prise = data.loc[data['locality_name'] == 'поселок Шушары']\n",
    "Value_most_prise['square_meter_price'].mean()"
   ]
  },
  {
   "cell_type": "code",
   "execution_count": 60,
   "metadata": {},
   "outputs": [
    {
     "data": {
      "text/plain": [
       "68654.4739860316"
      ]
     },
     "execution_count": 60,
     "metadata": {},
     "output_type": "execute_result"
    }
   ],
   "source": [
    "Value_most_prise = data.loc[data['locality_name'] == 'Всеволожск']\n",
    "Value_most_prise['square_meter_price'].mean()"
   ]
  },
  {
   "cell_type": "code",
   "execution_count": 61,
   "metadata": {},
   "outputs": [
    {
     "data": {
      "text/plain": [
       "103125.81929072196"
      ]
     },
     "execution_count": 61,
     "metadata": {},
     "output_type": "execute_result"
    }
   ],
   "source": [
    "Value_most_prise = data.loc[data['locality_name'] == 'Пушкин']\n",
    "Value_most_prise['square_meter_price'].mean()"
   ]
  },
  {
   "cell_type": "code",
   "execution_count": 62,
   "metadata": {},
   "outputs": [
    {
     "data": {
      "text/plain": [
       "75424.57909803945"
      ]
     },
     "execution_count": 62,
     "metadata": {},
     "output_type": "execute_result"
    }
   ],
   "source": [
    "Value_most_prise = data.loc[data['locality_name'] == 'Колпино']\n",
    "Value_most_prise['square_meter_price'].mean()"
   ]
  },
  {
   "cell_type": "code",
   "execution_count": 63,
   "metadata": {},
   "outputs": [
    {
     "data": {
      "text/plain": [
       "90175.91345801107"
      ]
     },
     "execution_count": 63,
     "metadata": {},
     "output_type": "execute_result"
    }
   ],
   "source": [
    "Value_most_prise = data.loc[data['locality_name'] == 'поселок Парголово']\n",
    "Value_most_prise['square_meter_price'].mean()"
   ]
  },
  {
   "cell_type": "code",
   "execution_count": 64,
   "metadata": {},
   "outputs": [
    {
     "data": {
      "text/plain": [
       "68746.14676333922"
      ]
     },
     "execution_count": 64,
     "metadata": {},
     "output_type": "execute_result"
    }
   ],
   "source": [
    "Value_most_prise = data.loc[data['locality_name'] == 'Гатчина']\n",
    "Value_most_prise['square_meter_price'].mean()"
   ]
  },
  {
   "cell_type": "code",
   "execution_count": 65,
   "metadata": {},
   "outputs": [
    {
     "data": {
      "text/plain": [
       "92473.54757579972"
      ]
     },
     "execution_count": 65,
     "metadata": {},
     "output_type": "execute_result"
    }
   ],
   "source": [
    "Value_most_prise = data.loc[data['locality_name'] == 'деревня Кудрово']\n",
    "Value_most_prise['square_meter_price'].mean()"
   ]
  },
  {
   "cell_type": "code",
   "execution_count": 66,
   "metadata": {},
   "outputs": [
    {
     "data": {
      "text/plain": [
       "58141.90915331862"
      ]
     },
     "execution_count": 66,
     "metadata": {},
     "output_type": "execute_result"
    }
   ],
   "source": [
    "Value_most_prise = data.loc[data['locality_name'] == 'Выборг']\n",
    "Value_most_prise['square_meter_price'].mean()"
   ]
  },
  {
   "cell_type": "code",
   "execution_count": 67,
   "metadata": {},
   "outputs": [
    {
     "data": {
      "text/plain": [
       "locality_name\n",
       "деревня Старополье        11206.221198\n",
       "поселок станции Свирь     11481.481481\n",
       "деревня Вахнова Кара      11688.311688\n",
       "деревня Выскатка          12335.480902\n",
       "поселок Совхозный         12629.129129\n",
       "                             ...      \n",
       "Сестрорецк               101757.616875\n",
       "Пушкин                   103125.819291\n",
       "поселок Репино           104238.614786\n",
       "Санкт-Петербург          114839.051563\n",
       "Зеленогорск              115122.799198\n",
       "Name: square_meter_price, Length: 327, dtype: float64"
      ]
     },
     "execution_count": 67,
     "metadata": {},
     "output_type": "execute_result"
    }
   ],
   "source": [
    "data.groupby('locality_name')['square_meter_price'].mean().sort_values()"
   ]
  },
  {
   "cell_type": "code",
   "execution_count": 68,
   "metadata": {},
   "outputs": [
    {
     "data": {
      "text/html": [
       "<div>\n",
       "<style scoped>\n",
       "    .dataframe tbody tr th:only-of-type {\n",
       "        vertical-align: middle;\n",
       "    }\n",
       "\n",
       "    .dataframe tbody tr th {\n",
       "        vertical-align: top;\n",
       "    }\n",
       "\n",
       "    .dataframe thead th {\n",
       "        text-align: right;\n",
       "    }\n",
       "</style>\n",
       "<table border=\"1\" class=\"dataframe\">\n",
       "  <thead>\n",
       "    <tr style=\"text-align: right;\">\n",
       "      <th></th>\n",
       "      <th>square_meter_price</th>\n",
       "    </tr>\n",
       "    <tr>\n",
       "      <th>km_for_center</th>\n",
       "      <th></th>\n",
       "    </tr>\n",
       "  </thead>\n",
       "  <tbody>\n",
       "    <tr>\n",
       "      <th>0</th>\n",
       "      <td>187324.130319</td>\n",
       "    </tr>\n",
       "    <tr>\n",
       "      <th>1</th>\n",
       "      <td>166603.755531</td>\n",
       "    </tr>\n",
       "    <tr>\n",
       "      <th>2</th>\n",
       "      <td>146662.860056</td>\n",
       "    </tr>\n",
       "    <tr>\n",
       "      <th>3</th>\n",
       "      <td>129526.934854</td>\n",
       "    </tr>\n",
       "    <tr>\n",
       "      <th>4</th>\n",
       "      <td>137413.428334</td>\n",
       "    </tr>\n",
       "    <tr>\n",
       "      <th>5</th>\n",
       "      <td>146978.313310</td>\n",
       "    </tr>\n",
       "    <tr>\n",
       "      <th>6</th>\n",
       "      <td>152277.893519</td>\n",
       "    </tr>\n",
       "    <tr>\n",
       "      <th>7</th>\n",
       "      <td>141399.731456</td>\n",
       "    </tr>\n",
       "    <tr>\n",
       "      <th>8</th>\n",
       "      <td>119819.210935</td>\n",
       "    </tr>\n",
       "    <tr>\n",
       "      <th>9</th>\n",
       "      <td>110027.821307</td>\n",
       "    </tr>\n",
       "    <tr>\n",
       "      <th>10</th>\n",
       "      <td>111490.163367</td>\n",
       "    </tr>\n",
       "    <tr>\n",
       "      <th>11</th>\n",
       "      <td>106610.422286</td>\n",
       "    </tr>\n",
       "    <tr>\n",
       "      <th>12</th>\n",
       "      <td>108284.058704</td>\n",
       "    </tr>\n",
       "    <tr>\n",
       "      <th>13</th>\n",
       "      <td>107146.473258</td>\n",
       "    </tr>\n",
       "    <tr>\n",
       "      <th>14</th>\n",
       "      <td>104976.801854</td>\n",
       "    </tr>\n",
       "    <tr>\n",
       "      <th>15</th>\n",
       "      <td>101859.810508</td>\n",
       "    </tr>\n",
       "    <tr>\n",
       "      <th>16</th>\n",
       "      <td>100083.326248</td>\n",
       "    </tr>\n",
       "    <tr>\n",
       "      <th>17</th>\n",
       "      <td>94666.409898</td>\n",
       "    </tr>\n",
       "    <tr>\n",
       "      <th>18</th>\n",
       "      <td>94814.964317</td>\n",
       "    </tr>\n",
       "    <tr>\n",
       "      <th>19</th>\n",
       "      <td>95434.377295</td>\n",
       "    </tr>\n",
       "    <tr>\n",
       "      <th>20</th>\n",
       "      <td>107046.166047</td>\n",
       "    </tr>\n",
       "    <tr>\n",
       "      <th>21</th>\n",
       "      <td>91492.688149</td>\n",
       "    </tr>\n",
       "    <tr>\n",
       "      <th>22</th>\n",
       "      <td>88714.696974</td>\n",
       "    </tr>\n",
       "    <tr>\n",
       "      <th>23</th>\n",
       "      <td>92720.641577</td>\n",
       "    </tr>\n",
       "    <tr>\n",
       "      <th>24</th>\n",
       "      <td>82440.343912</td>\n",
       "    </tr>\n",
       "    <tr>\n",
       "      <th>25</th>\n",
       "      <td>90436.945589</td>\n",
       "    </tr>\n",
       "    <tr>\n",
       "      <th>26</th>\n",
       "      <td>75171.911041</td>\n",
       "    </tr>\n",
       "    <tr>\n",
       "      <th>27</th>\n",
       "      <td>132115.709459</td>\n",
       "    </tr>\n",
       "    <tr>\n",
       "      <th>28</th>\n",
       "      <td>81840.638722</td>\n",
       "    </tr>\n",
       "    <tr>\n",
       "      <th>29</th>\n",
       "      <td>62482.404228</td>\n",
       "    </tr>\n",
       "  </tbody>\n",
       "</table>\n",
       "</div>"
      ],
      "text/plain": [
       "               square_meter_price\n",
       "km_for_center                    \n",
       "0                   187324.130319\n",
       "1                   166603.755531\n",
       "2                   146662.860056\n",
       "3                   129526.934854\n",
       "4                   137413.428334\n",
       "5                   146978.313310\n",
       "6                   152277.893519\n",
       "7                   141399.731456\n",
       "8                   119819.210935\n",
       "9                   110027.821307\n",
       "10                  111490.163367\n",
       "11                  106610.422286\n",
       "12                  108284.058704\n",
       "13                  107146.473258\n",
       "14                  104976.801854\n",
       "15                  101859.810508\n",
       "16                  100083.326248\n",
       "17                   94666.409898\n",
       "18                   94814.964317\n",
       "19                   95434.377295\n",
       "20                  107046.166047\n",
       "21                   91492.688149\n",
       "22                   88714.696974\n",
       "23                   92720.641577\n",
       "24                   82440.343912\n",
       "25                   90436.945589\n",
       "26                   75171.911041\n",
       "27                  132115.709459\n",
       "28                   81840.638722\n",
       "29                   62482.404228"
      ]
     },
     "execution_count": 68,
     "metadata": {},
     "output_type": "execute_result"
    },
    {
     "data": {
      "image/png": "[encoded data removed]",
      "text/plain": [
       "<Figure size 432x288 with 1 Axes>"
      ]
     },
     "metadata": {
      "needs_background": "light"
     },
     "output_type": "display_data"
    }
   ],
   "source": [
    "km_table = data.query('locality_name == \"Санкт-Петербург\" and km_for_center !=100000').pivot_table(index = 'km_for_center', values = 'square_meter_price', aggfunc = 'mean')\n",
    "km_table.plot()\n",
    "km_table"
   ]
  },
  {
   "cell_type": "markdown",
   "metadata": {},
   "source": [
    "Корреляция общей площади/жилой площади и цены достаточно высока. Однако зависимость цены от площади кухни уже ниже. Как и от количества комнат.\n",
    "\n",
    "Наиболее высоко были оценены квартиры, выставленные в декабре и в субботу.\n",
    "\n",
    "Больше всего в предоставленных данных квартир из Санкт-Петербурга. Однако по средней стоимости данный город лишь на втором месте, уступая Зеленогорску. Наиболее дешёвые квартиры в деревне Старополье.\n",
    "\n",
    "По мере удаления от центра города цена снижается."
   ]
  },
  {
   "cell_type": "markdown",
   "metadata": {},
   "source": [
    "### Общий вывод"
   ]
  },
  {
   "cell_type": "markdown",
   "metadata": {},
   "source": [
    "Был обработан полученный массив данных - вставлены пропущенные значения там, где это возможно без потери качества будущего анализа, заменены типы данных на необходимые для удобной работы. В таблицу были добавлены цена квадратного метра жилья, тип этажа квартиры и удалённость от центра города в километрах, а также день, месяц и год размещения объявления.\n",
    "\n",
    "Были изучены следующие параметры:\n",
    "\n",
    "- общая площадь;\n",
    "- жилая площадь;\n",
    "- площадь кухни;\n",
    "- цена объекта;\n",
    "- количество комнат;\n",
    "- высота потолков;\n",
    "- этаж квартиры;\n",
    "- тип этажа квартиры («первый», «последний», «другой»);\n",
    "- общее количество этажей в доме;\n",
    "- расстояние до центра города в метрах;\n",
    "- расстояние до ближайшего аэропорта;\n",
    "- расстояние до ближайшего парка;\n",
    "- день и месяц публикации объявления.\n",
    "\n",
    "Выявлено, что на цену квартиры более всего влияет её площадь. Также довольно высок разюрос цены по месяцам и даже дням недели. Наиболее дорогие квартиры в Зеленогорске, наименее дорогие - в деревне Старополье. Больше всего квартир продаётся в городе Санкт-Петербург."
   ]
  },
  {
   "cell_type": "code",
   "execution_count": null,
   "metadata": {},
   "outputs": [],
   "source": []
  }
 ],
 "metadata": {
  "ExecuteTimeLog": [
   {
    "duration": 777,
    "start_time": "2023-03-07T13:08:57.930Z"
   },
   {
    "duration": 79,
    "start_time": "2023-03-07T13:09:25.775Z"
   },
   {
    "duration": 127,
    "start_time": "2023-03-07T13:17:38.377Z"
   },
   {
    "duration": 104,
    "start_time": "2023-03-07T13:17:52.395Z"
   },
   {
    "duration": 2637,
    "start_time": "2023-03-07T13:18:14.011Z"
   },
   {
    "duration": 29,
    "start_time": "2023-03-07T13:34:13.728Z"
   },
   {
    "duration": 10,
    "start_time": "2023-03-07T13:34:27.644Z"
   },
   {
    "duration": 26,
    "start_time": "2023-03-07T13:35:01.038Z"
   },
   {
    "duration": 18,
    "start_time": "2023-03-07T13:51:12.664Z"
   },
   {
    "duration": 2771,
    "start_time": "2023-03-08T00:19:57.067Z"
   },
   {
    "duration": 6,
    "start_time": "2023-03-08T00:21:32.352Z"
   },
   {
    "duration": 2399,
    "start_time": "2023-03-08T00:21:47.499Z"
   },
   {
    "duration": 22,
    "start_time": "2023-03-08T00:21:49.900Z"
   },
   {
    "duration": 8,
    "start_time": "2023-03-08T00:21:49.924Z"
   },
   {
    "duration": 4,
    "start_time": "2023-03-08T00:21:49.933Z"
   },
   {
    "duration": 8,
    "start_time": "2023-03-08T00:24:41.293Z"
   },
   {
    "duration": 173,
    "start_time": "2023-03-08T00:25:59.706Z"
   },
   {
    "duration": 4,
    "start_time": "2023-03-08T00:27:17.037Z"
   },
   {
    "duration": 19,
    "start_time": "2023-03-08T00:29:58.711Z"
   },
   {
    "duration": 24,
    "start_time": "2023-03-08T00:30:23.633Z"
   },
   {
    "duration": 28,
    "start_time": "2023-03-08T00:31:30.134Z"
   },
   {
    "duration": 180,
    "start_time": "2023-03-08T00:31:38.935Z"
   },
   {
    "duration": 2574,
    "start_time": "2023-03-08T00:35:19.252Z"
   },
   {
    "duration": 24,
    "start_time": "2023-03-08T00:35:21.828Z"
   },
   {
    "duration": 8,
    "start_time": "2023-03-08T00:35:21.854Z"
   },
   {
    "duration": 5,
    "start_time": "2023-03-08T00:35:21.863Z"
   },
   {
    "duration": 5,
    "start_time": "2023-03-08T00:35:21.870Z"
   },
   {
    "duration": 18,
    "start_time": "2023-03-08T00:35:21.876Z"
   },
   {
    "duration": 14,
    "start_time": "2023-03-08T00:35:21.895Z"
   },
   {
    "duration": 1970,
    "start_time": "2023-03-08T00:36:15.452Z"
   },
   {
    "duration": 545,
    "start_time": "2023-03-08T00:36:23.374Z"
   },
   {
    "duration": 2137,
    "start_time": "2023-03-08T00:36:23.921Z"
   },
   {
    "duration": 33,
    "start_time": "2023-03-08T00:36:26.060Z"
   },
   {
    "duration": 11,
    "start_time": "2023-03-08T00:36:26.096Z"
   },
   {
    "duration": 23,
    "start_time": "2023-03-08T00:36:26.110Z"
   },
   {
    "duration": 19,
    "start_time": "2023-03-08T00:36:26.135Z"
   },
   {
    "duration": 15,
    "start_time": "2023-03-08T00:36:26.155Z"
   },
   {
    "duration": 14,
    "start_time": "2023-03-08T00:36:26.171Z"
   },
   {
    "duration": 4,
    "start_time": "2023-03-08T00:43:50.685Z"
   },
   {
    "duration": 3,
    "start_time": "2023-03-08T00:44:32.734Z"
   },
   {
    "duration": 4,
    "start_time": "2023-03-08T00:44:38.658Z"
   },
   {
    "duration": 3,
    "start_time": "2023-03-08T00:44:43.127Z"
   },
   {
    "duration": 6,
    "start_time": "2023-03-08T00:44:48.608Z"
   },
   {
    "duration": 468,
    "start_time": "2023-03-08T00:52:07.206Z"
   },
   {
    "duration": 1895,
    "start_time": "2023-03-08T00:52:07.675Z"
   },
   {
    "duration": 24,
    "start_time": "2023-03-08T00:52:09.572Z"
   },
   {
    "duration": 10,
    "start_time": "2023-03-08T00:52:09.598Z"
   },
   {
    "duration": 5,
    "start_time": "2023-03-08T00:52:09.610Z"
   },
   {
    "duration": 4,
    "start_time": "2023-03-08T00:52:09.617Z"
   },
   {
    "duration": 7,
    "start_time": "2023-03-08T00:52:09.623Z"
   },
   {
    "duration": 11,
    "start_time": "2023-03-08T00:52:09.631Z"
   },
   {
    "duration": 7,
    "start_time": "2023-03-08T00:52:09.644Z"
   },
   {
    "duration": 64,
    "start_time": "2023-03-08T00:52:09.652Z"
   },
   {
    "duration": 40,
    "start_time": "2023-03-08T00:52:09.717Z"
   },
   {
    "duration": 381,
    "start_time": "2023-03-08T00:56:53.472Z"
   },
   {
    "duration": 360,
    "start_time": "2023-03-08T00:57:25.295Z"
   },
   {
    "duration": 9,
    "start_time": "2023-03-08T00:57:53.013Z"
   },
   {
    "duration": 475,
    "start_time": "2023-03-08T00:58:07.018Z"
   },
   {
    "duration": 1967,
    "start_time": "2023-03-08T00:58:07.495Z"
   },
   {
    "duration": 31,
    "start_time": "2023-03-08T00:58:09.464Z"
   },
   {
    "duration": 8,
    "start_time": "2023-03-08T00:58:09.498Z"
   },
   {
    "duration": 5,
    "start_time": "2023-03-08T00:58:09.507Z"
   },
   {
    "duration": 12,
    "start_time": "2023-03-08T00:58:09.513Z"
   },
   {
    "duration": 12,
    "start_time": "2023-03-08T00:58:09.526Z"
   },
   {
    "duration": 12,
    "start_time": "2023-03-08T00:58:09.539Z"
   },
   {
    "duration": 7,
    "start_time": "2023-03-08T00:58:09.552Z"
   },
   {
    "duration": 54,
    "start_time": "2023-03-08T00:58:09.561Z"
   },
   {
    "duration": 38,
    "start_time": "2023-03-08T00:58:09.617Z"
   },
   {
    "duration": 7,
    "start_time": "2023-03-08T00:58:09.656Z"
   },
   {
    "duration": 7,
    "start_time": "2023-03-08T00:59:16.191Z"
   },
   {
    "duration": 6,
    "start_time": "2023-03-08T00:59:22.873Z"
   },
   {
    "duration": 7,
    "start_time": "2023-03-08T00:59:26.567Z"
   },
   {
    "duration": 9,
    "start_time": "2023-03-08T01:09:47.597Z"
   },
   {
    "duration": 80,
    "start_time": "2023-03-08T01:12:31.226Z"
   },
   {
    "duration": 6,
    "start_time": "2023-03-08T01:12:42.819Z"
   },
   {
    "duration": 69,
    "start_time": "2023-03-08T01:13:48.483Z"
   },
   {
    "duration": 8,
    "start_time": "2023-03-08T01:13:58.199Z"
   },
   {
    "duration": 5,
    "start_time": "2023-03-08T01:15:12.542Z"
   },
   {
    "duration": 9,
    "start_time": "2023-03-08T01:15:20.215Z"
   },
   {
    "duration": 8,
    "start_time": "2023-03-08T01:15:46.377Z"
   },
   {
    "duration": 9,
    "start_time": "2023-03-08T01:15:58.792Z"
   },
   {
    "duration": 6,
    "start_time": "2023-03-08T01:16:06.979Z"
   },
   {
    "duration": 7,
    "start_time": "2023-03-08T01:16:20.354Z"
   },
   {
    "duration": 16,
    "start_time": "2023-03-08T01:17:36.267Z"
   },
   {
    "duration": 5,
    "start_time": "2023-03-08T01:21:23.406Z"
   },
   {
    "duration": 7,
    "start_time": "2023-03-08T01:23:03.260Z"
   },
   {
    "duration": 21,
    "start_time": "2023-03-08T01:34:42.067Z"
   },
   {
    "duration": 8,
    "start_time": "2023-03-08T01:36:20.777Z"
   },
   {
    "duration": 7,
    "start_time": "2023-03-08T01:36:47.033Z"
   },
   {
    "duration": 7,
    "start_time": "2023-03-08T01:36:58.357Z"
   },
   {
    "duration": 7,
    "start_time": "2023-03-08T01:37:09.501Z"
   },
   {
    "duration": 7,
    "start_time": "2023-03-08T01:37:36.165Z"
   },
   {
    "duration": 7,
    "start_time": "2023-03-08T01:38:00.029Z"
   },
   {
    "duration": 14,
    "start_time": "2023-03-08T01:40:33.759Z"
   },
   {
    "duration": 11,
    "start_time": "2023-03-08T01:42:30.920Z"
   },
   {
    "duration": 451,
    "start_time": "2023-03-08T01:44:07.617Z"
   },
   {
    "duration": 1932,
    "start_time": "2023-03-08T01:44:08.070Z"
   },
   {
    "duration": 25,
    "start_time": "2023-03-08T01:44:10.004Z"
   },
   {
    "duration": 9,
    "start_time": "2023-03-08T01:44:10.032Z"
   },
   {
    "duration": 5,
    "start_time": "2023-03-08T01:44:10.043Z"
   },
   {
    "duration": 5,
    "start_time": "2023-03-08T01:44:10.050Z"
   },
   {
    "duration": 4,
    "start_time": "2023-03-08T01:44:10.057Z"
   },
   {
    "duration": 4,
    "start_time": "2023-03-08T01:44:10.080Z"
   },
   {
    "duration": 10,
    "start_time": "2023-03-08T01:44:10.086Z"
   },
   {
    "duration": 8,
    "start_time": "2023-03-08T01:44:10.099Z"
   },
   {
    "duration": 6,
    "start_time": "2023-03-08T01:44:10.109Z"
   },
   {
    "duration": 7,
    "start_time": "2023-03-08T01:44:10.116Z"
   },
   {
    "duration": 8,
    "start_time": "2023-03-08T01:44:10.124Z"
   },
   {
    "duration": 46,
    "start_time": "2023-03-08T01:44:10.134Z"
   },
   {
    "duration": 7,
    "start_time": "2023-03-08T01:44:10.181Z"
   },
   {
    "duration": 5,
    "start_time": "2023-03-08T01:47:53.430Z"
   },
   {
    "duration": 488,
    "start_time": "2023-03-08T01:48:04.631Z"
   },
   {
    "duration": 1909,
    "start_time": "2023-03-08T01:48:05.121Z"
   },
   {
    "duration": 23,
    "start_time": "2023-03-08T01:48:07.032Z"
   },
   {
    "duration": 8,
    "start_time": "2023-03-08T01:48:07.057Z"
   },
   {
    "duration": 6,
    "start_time": "2023-03-08T01:48:07.067Z"
   },
   {
    "duration": 7,
    "start_time": "2023-03-08T01:48:07.075Z"
   },
   {
    "duration": 5,
    "start_time": "2023-03-08T01:48:07.083Z"
   },
   {
    "duration": 5,
    "start_time": "2023-03-08T01:48:07.090Z"
   },
   {
    "duration": 8,
    "start_time": "2023-03-08T01:48:07.096Z"
   },
   {
    "duration": 9,
    "start_time": "2023-03-08T01:48:07.106Z"
   },
   {
    "duration": 5,
    "start_time": "2023-03-08T01:48:07.117Z"
   },
   {
    "duration": 8,
    "start_time": "2023-03-08T01:48:07.123Z"
   },
   {
    "duration": 11,
    "start_time": "2023-03-08T01:48:07.132Z"
   },
   {
    "duration": 5,
    "start_time": "2023-03-08T01:48:07.144Z"
   },
   {
    "duration": 36,
    "start_time": "2023-03-08T01:48:07.150Z"
   },
   {
    "duration": 5,
    "start_time": "2023-03-08T01:48:07.187Z"
   },
   {
    "duration": 14,
    "start_time": "2023-03-08T01:48:07.193Z"
   },
   {
    "duration": 6,
    "start_time": "2023-03-08T01:48:51.564Z"
   },
   {
    "duration": 527,
    "start_time": "2023-03-08T02:07:01.250Z"
   },
   {
    "duration": 1916,
    "start_time": "2023-03-08T02:07:01.778Z"
   },
   {
    "duration": 27,
    "start_time": "2023-03-08T02:07:03.696Z"
   },
   {
    "duration": 9,
    "start_time": "2023-03-08T02:07:03.726Z"
   },
   {
    "duration": 5,
    "start_time": "2023-03-08T02:07:03.736Z"
   },
   {
    "duration": 6,
    "start_time": "2023-03-08T02:07:03.743Z"
   },
   {
    "duration": 9,
    "start_time": "2023-03-08T02:07:03.751Z"
   },
   {
    "duration": 9,
    "start_time": "2023-03-08T02:07:03.762Z"
   },
   {
    "duration": 6,
    "start_time": "2023-03-08T02:07:03.780Z"
   },
   {
    "duration": 12,
    "start_time": "2023-03-08T02:07:03.788Z"
   },
   {
    "duration": 6,
    "start_time": "2023-03-08T02:07:03.801Z"
   },
   {
    "duration": 8,
    "start_time": "2023-03-08T02:07:03.809Z"
   },
   {
    "duration": 13,
    "start_time": "2023-03-08T02:07:03.818Z"
   },
   {
    "duration": 5,
    "start_time": "2023-03-08T02:07:03.832Z"
   },
   {
    "duration": 17,
    "start_time": "2023-03-08T02:07:03.838Z"
   },
   {
    "duration": 28,
    "start_time": "2023-03-08T02:07:03.857Z"
   },
   {
    "duration": 9,
    "start_time": "2023-03-08T02:07:03.887Z"
   },
   {
    "duration": 99,
    "start_time": "2023-03-08T02:07:56.074Z"
   },
   {
    "duration": 13,
    "start_time": "2023-03-08T02:08:25.295Z"
   },
   {
    "duration": 480,
    "start_time": "2023-03-08T02:08:32.642Z"
   },
   {
    "duration": 1907,
    "start_time": "2023-03-08T02:08:33.123Z"
   },
   {
    "duration": 24,
    "start_time": "2023-03-08T02:08:35.032Z"
   },
   {
    "duration": 9,
    "start_time": "2023-03-08T02:08:35.057Z"
   },
   {
    "duration": 5,
    "start_time": "2023-03-08T02:08:35.068Z"
   },
   {
    "duration": 9,
    "start_time": "2023-03-08T02:08:35.074Z"
   },
   {
    "duration": 10,
    "start_time": "2023-03-08T02:08:35.084Z"
   },
   {
    "duration": 6,
    "start_time": "2023-03-08T02:08:35.095Z"
   },
   {
    "duration": 7,
    "start_time": "2023-03-08T02:08:35.102Z"
   },
   {
    "duration": 19,
    "start_time": "2023-03-08T02:08:35.112Z"
   },
   {
    "duration": 6,
    "start_time": "2023-03-08T02:08:35.132Z"
   },
   {
    "duration": 9,
    "start_time": "2023-03-08T02:08:35.139Z"
   },
   {
    "duration": 16,
    "start_time": "2023-03-08T02:08:35.149Z"
   },
   {
    "duration": 41,
    "start_time": "2023-03-08T02:08:35.166Z"
   },
   {
    "duration": 16,
    "start_time": "2023-03-08T02:08:35.209Z"
   },
   {
    "duration": 26,
    "start_time": "2023-03-08T02:08:35.226Z"
   },
   {
    "duration": 13,
    "start_time": "2023-03-08T02:08:35.253Z"
   },
   {
    "duration": 49,
    "start_time": "2023-03-08T11:17:00.010Z"
   },
   {
    "duration": 543,
    "start_time": "2023-03-08T11:18:50.544Z"
   },
   {
    "duration": 2421,
    "start_time": "2023-03-08T11:18:51.089Z"
   },
   {
    "duration": 24,
    "start_time": "2023-03-08T11:18:53.512Z"
   },
   {
    "duration": 9,
    "start_time": "2023-03-08T11:18:53.538Z"
   },
   {
    "duration": 5,
    "start_time": "2023-03-08T11:18:53.548Z"
   },
   {
    "duration": 5,
    "start_time": "2023-03-08T11:18:53.554Z"
   },
   {
    "duration": 4,
    "start_time": "2023-03-08T11:18:53.561Z"
   },
   {
    "duration": 4,
    "start_time": "2023-03-08T11:18:53.566Z"
   },
   {
    "duration": 43,
    "start_time": "2023-03-08T11:18:53.572Z"
   },
   {
    "duration": 9,
    "start_time": "2023-03-08T11:18:53.617Z"
   },
   {
    "duration": 6,
    "start_time": "2023-03-08T11:18:53.628Z"
   },
   {
    "duration": 8,
    "start_time": "2023-03-08T11:18:53.635Z"
   },
   {
    "duration": 7,
    "start_time": "2023-03-08T11:18:53.645Z"
   },
   {
    "duration": 5,
    "start_time": "2023-03-08T11:18:53.654Z"
   },
   {
    "duration": 52,
    "start_time": "2023-03-08T11:18:53.660Z"
   },
   {
    "duration": 5,
    "start_time": "2023-03-08T11:18:53.714Z"
   },
   {
    "duration": 8,
    "start_time": "2023-03-08T11:18:53.720Z"
   },
   {
    "duration": 516,
    "start_time": "2023-03-08T11:20:04.622Z"
   },
   {
    "duration": 2273,
    "start_time": "2023-03-08T11:20:05.141Z"
   },
   {
    "duration": 26,
    "start_time": "2023-03-08T11:20:07.415Z"
   },
   {
    "duration": 9,
    "start_time": "2023-03-08T11:20:07.443Z"
   },
   {
    "duration": 5,
    "start_time": "2023-03-08T11:20:07.454Z"
   },
   {
    "duration": 7,
    "start_time": "2023-03-08T11:20:07.460Z"
   },
   {
    "duration": 4,
    "start_time": "2023-03-08T11:20:07.469Z"
   },
   {
    "duration": 39,
    "start_time": "2023-03-08T11:20:07.475Z"
   },
   {
    "duration": 9,
    "start_time": "2023-03-08T11:20:07.516Z"
   },
   {
    "duration": 11,
    "start_time": "2023-03-08T11:20:07.527Z"
   },
   {
    "duration": 7,
    "start_time": "2023-03-08T11:20:07.540Z"
   },
   {
    "duration": 10,
    "start_time": "2023-03-08T11:20:07.549Z"
   },
   {
    "duration": 13,
    "start_time": "2023-03-08T11:20:07.561Z"
   },
   {
    "duration": 6,
    "start_time": "2023-03-08T11:20:07.575Z"
   },
   {
    "duration": 119,
    "start_time": "2023-03-08T11:20:07.582Z"
   },
   {
    "duration": 0,
    "start_time": "2023-03-08T11:20:07.703Z"
   },
   {
    "duration": 0,
    "start_time": "2023-03-08T11:20:07.704Z"
   },
   {
    "duration": 566,
    "start_time": "2023-03-08T11:21:15.505Z"
   },
   {
    "duration": 2361,
    "start_time": "2023-03-08T11:21:16.073Z"
   },
   {
    "duration": 26,
    "start_time": "2023-03-08T11:21:18.435Z"
   },
   {
    "duration": 9,
    "start_time": "2023-03-08T11:21:18.463Z"
   },
   {
    "duration": 5,
    "start_time": "2023-03-08T11:21:18.474Z"
   },
   {
    "duration": 5,
    "start_time": "2023-03-08T11:21:18.480Z"
   },
   {
    "duration": 4,
    "start_time": "2023-03-08T11:21:18.487Z"
   },
   {
    "duration": 4,
    "start_time": "2023-03-08T11:21:18.493Z"
   },
   {
    "duration": 7,
    "start_time": "2023-03-08T11:21:18.511Z"
   },
   {
    "duration": 12,
    "start_time": "2023-03-08T11:21:18.521Z"
   },
   {
    "duration": 11,
    "start_time": "2023-03-08T11:21:18.535Z"
   },
   {
    "duration": 23,
    "start_time": "2023-03-08T11:21:18.547Z"
   },
   {
    "duration": 15,
    "start_time": "2023-03-08T11:21:18.572Z"
   },
   {
    "duration": 5,
    "start_time": "2023-03-08T11:21:18.589Z"
   },
   {
    "duration": 83,
    "start_time": "2023-03-08T11:21:18.595Z"
   },
   {
    "duration": 0,
    "start_time": "2023-03-08T11:21:18.680Z"
   },
   {
    "duration": 0,
    "start_time": "2023-03-08T11:21:18.681Z"
   },
   {
    "duration": 561,
    "start_time": "2023-03-08T11:21:55.111Z"
   },
   {
    "duration": 2592,
    "start_time": "2023-03-08T11:21:55.674Z"
   },
   {
    "duration": 28,
    "start_time": "2023-03-08T11:21:58.268Z"
   },
   {
    "duration": 9,
    "start_time": "2023-03-08T11:21:58.298Z"
   },
   {
    "duration": 5,
    "start_time": "2023-03-08T11:21:58.310Z"
   },
   {
    "duration": 6,
    "start_time": "2023-03-08T11:21:58.317Z"
   },
   {
    "duration": 6,
    "start_time": "2023-03-08T11:21:58.324Z"
   },
   {
    "duration": 5,
    "start_time": "2023-03-08T11:21:58.331Z"
   },
   {
    "duration": 10,
    "start_time": "2023-03-08T11:21:58.337Z"
   },
   {
    "duration": 11,
    "start_time": "2023-03-08T11:21:58.348Z"
   },
   {
    "duration": 7,
    "start_time": "2023-03-08T11:21:58.360Z"
   },
   {
    "duration": 50,
    "start_time": "2023-03-08T11:21:58.369Z"
   },
   {
    "duration": 8,
    "start_time": "2023-03-08T11:21:58.421Z"
   },
   {
    "duration": 6,
    "start_time": "2023-03-08T11:21:58.431Z"
   },
   {
    "duration": 90,
    "start_time": "2023-03-08T11:21:58.439Z"
   },
   {
    "duration": 0,
    "start_time": "2023-03-08T11:21:58.531Z"
   },
   {
    "duration": 0,
    "start_time": "2023-03-08T11:21:58.532Z"
   },
   {
    "duration": 49,
    "start_time": "2023-03-08T11:25:02.187Z"
   },
   {
    "duration": 498,
    "start_time": "2023-03-08T11:25:07.847Z"
   },
   {
    "duration": 2298,
    "start_time": "2023-03-08T11:25:08.347Z"
   },
   {
    "duration": 27,
    "start_time": "2023-03-08T11:25:10.647Z"
   },
   {
    "duration": 9,
    "start_time": "2023-03-08T11:25:10.675Z"
   },
   {
    "duration": 6,
    "start_time": "2023-03-08T11:25:10.686Z"
   },
   {
    "duration": 5,
    "start_time": "2023-03-08T11:25:10.693Z"
   },
   {
    "duration": 16,
    "start_time": "2023-03-08T11:25:10.699Z"
   },
   {
    "duration": 5,
    "start_time": "2023-03-08T11:25:10.717Z"
   },
   {
    "duration": 7,
    "start_time": "2023-03-08T11:25:10.724Z"
   },
   {
    "duration": 11,
    "start_time": "2023-03-08T11:25:10.732Z"
   },
   {
    "duration": 8,
    "start_time": "2023-03-08T11:25:10.745Z"
   },
   {
    "duration": 9,
    "start_time": "2023-03-08T11:25:10.754Z"
   },
   {
    "duration": 13,
    "start_time": "2023-03-08T11:25:10.765Z"
   },
   {
    "duration": 6,
    "start_time": "2023-03-08T11:25:10.811Z"
   },
   {
    "duration": 57,
    "start_time": "2023-03-08T11:25:10.819Z"
   },
   {
    "duration": 7,
    "start_time": "2023-03-08T11:25:10.878Z"
   },
   {
    "duration": 32,
    "start_time": "2023-03-08T11:25:10.887Z"
   },
   {
    "duration": 6,
    "start_time": "2023-03-08T11:27:21.738Z"
   },
   {
    "duration": 8,
    "start_time": "2023-03-08T11:28:41.010Z"
   },
   {
    "duration": 7,
    "start_time": "2023-03-08T11:31:22.978Z"
   },
   {
    "duration": 9,
    "start_time": "2023-03-08T11:31:39.789Z"
   },
   {
    "duration": 7,
    "start_time": "2023-03-08T11:31:46.162Z"
   },
   {
    "duration": 73,
    "start_time": "2023-03-08T11:32:09.402Z"
   },
   {
    "duration": 9,
    "start_time": "2023-03-08T11:32:18.996Z"
   },
   {
    "duration": 8,
    "start_time": "2023-03-08T11:32:29.196Z"
   },
   {
    "duration": 21,
    "start_time": "2023-03-08T11:33:17.042Z"
   },
   {
    "duration": 8,
    "start_time": "2023-03-08T11:34:47.835Z"
   },
   {
    "duration": 8,
    "start_time": "2023-03-08T11:34:57.930Z"
   },
   {
    "duration": 8,
    "start_time": "2023-03-08T11:35:26.714Z"
   },
   {
    "duration": 10,
    "start_time": "2023-03-08T11:35:33.957Z"
   },
   {
    "duration": 5,
    "start_time": "2023-03-08T11:36:52.875Z"
   },
   {
    "duration": 510,
    "start_time": "2023-03-08T11:38:37.475Z"
   },
   {
    "duration": 2579,
    "start_time": "2023-03-08T11:38:37.987Z"
   },
   {
    "duration": 36,
    "start_time": "2023-03-08T11:38:40.568Z"
   },
   {
    "duration": 20,
    "start_time": "2023-03-08T11:38:40.606Z"
   },
   {
    "duration": 6,
    "start_time": "2023-03-08T11:38:40.627Z"
   },
   {
    "duration": 8,
    "start_time": "2023-03-08T11:38:40.635Z"
   },
   {
    "duration": 6,
    "start_time": "2023-03-08T11:38:40.645Z"
   },
   {
    "duration": 4,
    "start_time": "2023-03-08T11:38:40.653Z"
   },
   {
    "duration": 7,
    "start_time": "2023-03-08T11:38:40.659Z"
   },
   {
    "duration": 10,
    "start_time": "2023-03-08T11:38:40.669Z"
   },
   {
    "duration": 7,
    "start_time": "2023-03-08T11:38:40.681Z"
   },
   {
    "duration": 17,
    "start_time": "2023-03-08T11:38:40.711Z"
   },
   {
    "duration": 8,
    "start_time": "2023-03-08T11:38:40.730Z"
   },
   {
    "duration": 8,
    "start_time": "2023-03-08T11:38:40.740Z"
   },
   {
    "duration": 102,
    "start_time": "2023-03-08T11:38:40.750Z"
   },
   {
    "duration": 6,
    "start_time": "2023-03-08T11:38:40.854Z"
   },
   {
    "duration": 16,
    "start_time": "2023-03-08T11:38:40.861Z"
   },
   {
    "duration": 14,
    "start_time": "2023-03-08T11:38:40.879Z"
   },
   {
    "duration": 16,
    "start_time": "2023-03-08T11:38:40.916Z"
   },
   {
    "duration": 13,
    "start_time": "2023-03-08T11:38:40.934Z"
   },
   {
    "duration": 509,
    "start_time": "2023-03-08T11:39:49.483Z"
   },
   {
    "duration": 8,
    "start_time": "2023-03-08T11:39:59.740Z"
   },
   {
    "duration": 513,
    "start_time": "2023-03-08T11:40:53.129Z"
   },
   {
    "duration": 2310,
    "start_time": "2023-03-08T11:40:53.644Z"
   },
   {
    "duration": 26,
    "start_time": "2023-03-08T11:40:55.955Z"
   },
   {
    "duration": 9,
    "start_time": "2023-03-08T11:40:55.982Z"
   },
   {
    "duration": 20,
    "start_time": "2023-03-08T11:40:55.993Z"
   },
   {
    "duration": 4,
    "start_time": "2023-03-08T11:40:56.015Z"
   },
   {
    "duration": 5,
    "start_time": "2023-03-08T11:40:56.021Z"
   },
   {
    "duration": 4,
    "start_time": "2023-03-08T11:40:56.028Z"
   },
   {
    "duration": 16,
    "start_time": "2023-03-08T11:40:56.033Z"
   },
   {
    "duration": 9,
    "start_time": "2023-03-08T11:40:56.051Z"
   },
   {
    "duration": 6,
    "start_time": "2023-03-08T11:40:56.062Z"
   },
   {
    "duration": 8,
    "start_time": "2023-03-08T11:40:56.070Z"
   },
   {
    "duration": 32,
    "start_time": "2023-03-08T11:40:56.080Z"
   },
   {
    "duration": 5,
    "start_time": "2023-03-08T11:40:56.115Z"
   },
   {
    "duration": 53,
    "start_time": "2023-03-08T11:40:56.122Z"
   },
   {
    "duration": 6,
    "start_time": "2023-03-08T11:40:56.177Z"
   },
   {
    "duration": 32,
    "start_time": "2023-03-08T11:40:56.184Z"
   },
   {
    "duration": 10,
    "start_time": "2023-03-08T11:40:56.218Z"
   },
   {
    "duration": 7,
    "start_time": "2023-03-08T11:40:56.230Z"
   },
   {
    "duration": 8,
    "start_time": "2023-03-08T11:40:56.238Z"
   },
   {
    "duration": 8,
    "start_time": "2023-03-08T11:40:56.247Z"
   },
   {
    "duration": 104,
    "start_time": "2023-03-08T11:42:08.027Z"
   },
   {
    "duration": 52,
    "start_time": "2023-03-08T11:42:16.035Z"
   },
   {
    "duration": 478,
    "start_time": "2023-03-08T11:42:22.359Z"
   },
   {
    "duration": 2403,
    "start_time": "2023-03-08T11:42:22.839Z"
   },
   {
    "duration": 27,
    "start_time": "2023-03-08T11:42:25.243Z"
   },
   {
    "duration": 11,
    "start_time": "2023-03-08T11:42:25.272Z"
   },
   {
    "duration": 6,
    "start_time": "2023-03-08T11:42:25.285Z"
   },
   {
    "duration": 20,
    "start_time": "2023-03-08T11:42:25.292Z"
   },
   {
    "duration": 5,
    "start_time": "2023-03-08T11:42:25.314Z"
   },
   {
    "duration": 3,
    "start_time": "2023-03-08T11:42:25.320Z"
   },
   {
    "duration": 7,
    "start_time": "2023-03-08T11:42:25.325Z"
   },
   {
    "duration": 12,
    "start_time": "2023-03-08T11:42:25.333Z"
   },
   {
    "duration": 7,
    "start_time": "2023-03-08T11:42:25.347Z"
   },
   {
    "duration": 11,
    "start_time": "2023-03-08T11:42:25.355Z"
   },
   {
    "duration": 10,
    "start_time": "2023-03-08T11:42:25.367Z"
   },
   {
    "duration": 5,
    "start_time": "2023-03-08T11:42:25.414Z"
   },
   {
    "duration": 55,
    "start_time": "2023-03-08T11:42:25.420Z"
   },
   {
    "duration": 5,
    "start_time": "2023-03-08T11:42:25.477Z"
   },
   {
    "duration": 30,
    "start_time": "2023-03-08T11:42:25.484Z"
   },
   {
    "duration": 15,
    "start_time": "2023-03-08T11:42:25.516Z"
   },
   {
    "duration": 7,
    "start_time": "2023-03-08T11:42:25.533Z"
   },
   {
    "duration": 10,
    "start_time": "2023-03-08T11:42:25.542Z"
   },
   {
    "duration": 9,
    "start_time": "2023-03-08T11:42:25.553Z"
   },
   {
    "duration": 124,
    "start_time": "2023-03-08T11:44:40.014Z"
   },
   {
    "duration": 59,
    "start_time": "2023-03-08T11:45:20.284Z"
   },
   {
    "duration": 56,
    "start_time": "2023-03-08T11:45:47.327Z"
   },
   {
    "duration": 533,
    "start_time": "2023-03-08T11:45:52.911Z"
   },
   {
    "duration": 2384,
    "start_time": "2023-03-08T11:45:53.446Z"
   },
   {
    "duration": 26,
    "start_time": "2023-03-08T11:45:55.831Z"
   },
   {
    "duration": 11,
    "start_time": "2023-03-08T11:45:55.858Z"
   },
   {
    "duration": 5,
    "start_time": "2023-03-08T11:45:55.871Z"
   },
   {
    "duration": 5,
    "start_time": "2023-03-08T11:45:55.878Z"
   },
   {
    "duration": 5,
    "start_time": "2023-03-08T11:45:55.885Z"
   },
   {
    "duration": 3,
    "start_time": "2023-03-08T11:45:55.892Z"
   },
   {
    "duration": 10,
    "start_time": "2023-03-08T11:45:55.913Z"
   },
   {
    "duration": 17,
    "start_time": "2023-03-08T11:45:55.925Z"
   },
   {
    "duration": 8,
    "start_time": "2023-03-08T11:45:55.944Z"
   },
   {
    "duration": 10,
    "start_time": "2023-03-08T11:45:55.953Z"
   },
   {
    "duration": 10,
    "start_time": "2023-03-08T11:45:55.965Z"
   },
   {
    "duration": 6,
    "start_time": "2023-03-08T11:45:55.977Z"
   },
   {
    "duration": 79,
    "start_time": "2023-03-08T11:45:55.984Z"
   },
   {
    "duration": 6,
    "start_time": "2023-03-08T11:45:56.065Z"
   },
   {
    "duration": 8,
    "start_time": "2023-03-08T11:45:56.072Z"
   },
   {
    "duration": 34,
    "start_time": "2023-03-08T11:45:56.082Z"
   },
   {
    "duration": 8,
    "start_time": "2023-03-08T11:45:56.117Z"
   },
   {
    "duration": 8,
    "start_time": "2023-03-08T11:45:56.126Z"
   },
   {
    "duration": 7,
    "start_time": "2023-03-08T11:45:56.136Z"
   },
   {
    "duration": 2118,
    "start_time": "2023-03-08T11:50:39.983Z"
   },
   {
    "duration": 19,
    "start_time": "2023-03-08T11:50:50.330Z"
   },
   {
    "duration": 21,
    "start_time": "2023-03-08T11:51:00.508Z"
   },
   {
    "duration": 20,
    "start_time": "2023-03-08T11:51:31.053Z"
   },
   {
    "duration": 568,
    "start_time": "2023-03-08T11:51:39.702Z"
   },
   {
    "duration": 2462,
    "start_time": "2023-03-08T11:51:40.272Z"
   },
   {
    "duration": 27,
    "start_time": "2023-03-08T11:51:42.736Z"
   },
   {
    "duration": 9,
    "start_time": "2023-03-08T11:51:42.766Z"
   },
   {
    "duration": 5,
    "start_time": "2023-03-08T11:51:42.776Z"
   },
   {
    "duration": 4,
    "start_time": "2023-03-08T11:51:42.783Z"
   },
   {
    "duration": 4,
    "start_time": "2023-03-08T11:51:42.789Z"
   },
   {
    "duration": 23,
    "start_time": "2023-03-08T11:51:42.795Z"
   },
   {
    "duration": 10,
    "start_time": "2023-03-08T11:51:42.820Z"
   },
   {
    "duration": 9,
    "start_time": "2023-03-08T11:51:42.833Z"
   },
   {
    "duration": 7,
    "start_time": "2023-03-08T11:51:42.844Z"
   },
   {
    "duration": 9,
    "start_time": "2023-03-08T11:51:42.853Z"
   },
   {
    "duration": 8,
    "start_time": "2023-03-08T11:51:42.864Z"
   },
   {
    "duration": 6,
    "start_time": "2023-03-08T11:51:42.874Z"
   },
   {
    "duration": 122,
    "start_time": "2023-03-08T11:51:42.882Z"
   },
   {
    "duration": 12,
    "start_time": "2023-03-08T11:51:43.011Z"
   },
   {
    "duration": 12,
    "start_time": "2023-03-08T11:51:43.025Z"
   },
   {
    "duration": 13,
    "start_time": "2023-03-08T11:51:43.039Z"
   },
   {
    "duration": 7,
    "start_time": "2023-03-08T11:51:43.053Z"
   },
   {
    "duration": 8,
    "start_time": "2023-03-08T11:51:43.062Z"
   },
   {
    "duration": 8,
    "start_time": "2023-03-08T11:51:43.071Z"
   },
   {
    "duration": 20,
    "start_time": "2023-03-08T11:52:17.878Z"
   },
   {
    "duration": 562,
    "start_time": "2023-03-08T11:52:23.943Z"
   },
   {
    "duration": 2431,
    "start_time": "2023-03-08T11:52:24.507Z"
   },
   {
    "duration": 25,
    "start_time": "2023-03-08T11:52:26.940Z"
   },
   {
    "duration": 9,
    "start_time": "2023-03-08T11:52:26.967Z"
   },
   {
    "duration": 7,
    "start_time": "2023-03-08T11:52:26.978Z"
   },
   {
    "duration": 9,
    "start_time": "2023-03-08T11:52:26.987Z"
   },
   {
    "duration": 28,
    "start_time": "2023-03-08T11:52:26.997Z"
   },
   {
    "duration": 7,
    "start_time": "2023-03-08T11:52:27.027Z"
   },
   {
    "duration": 12,
    "start_time": "2023-03-08T11:52:27.035Z"
   },
   {
    "duration": 11,
    "start_time": "2023-03-08T11:52:27.048Z"
   },
   {
    "duration": 6,
    "start_time": "2023-03-08T11:52:27.061Z"
   },
   {
    "duration": 8,
    "start_time": "2023-03-08T11:52:27.069Z"
   },
   {
    "duration": 16,
    "start_time": "2023-03-08T11:52:27.078Z"
   },
   {
    "duration": 31,
    "start_time": "2023-03-08T11:52:27.097Z"
   },
   {
    "duration": 54,
    "start_time": "2023-03-08T11:52:27.131Z"
   },
   {
    "duration": 6,
    "start_time": "2023-03-08T11:52:27.187Z"
   },
   {
    "duration": 31,
    "start_time": "2023-03-08T11:52:27.195Z"
   },
   {
    "duration": 14,
    "start_time": "2023-03-08T11:52:27.228Z"
   },
   {
    "duration": 8,
    "start_time": "2023-03-08T11:52:27.244Z"
   },
   {
    "duration": 7,
    "start_time": "2023-03-08T11:52:27.254Z"
   },
   {
    "duration": 19,
    "start_time": "2023-03-08T11:52:27.263Z"
   },
   {
    "duration": 75,
    "start_time": "2023-03-08T11:54:23.211Z"
   },
   {
    "duration": 1487,
    "start_time": "2023-03-08T11:54:57.736Z"
   },
   {
    "duration": 530,
    "start_time": "2023-03-08T11:55:31.716Z"
   },
   {
    "duration": 2413,
    "start_time": "2023-03-08T11:55:32.248Z"
   },
   {
    "duration": 25,
    "start_time": "2023-03-08T11:55:34.663Z"
   },
   {
    "duration": 8,
    "start_time": "2023-03-08T11:55:34.690Z"
   },
   {
    "duration": 5,
    "start_time": "2023-03-08T11:55:34.700Z"
   },
   {
    "duration": 8,
    "start_time": "2023-03-08T11:55:34.707Z"
   },
   {
    "duration": 7,
    "start_time": "2023-03-08T11:55:34.717Z"
   },
   {
    "duration": 14,
    "start_time": "2023-03-08T11:55:34.725Z"
   },
   {
    "duration": 12,
    "start_time": "2023-03-08T11:55:34.740Z"
   },
   {
    "duration": 11,
    "start_time": "2023-03-08T11:55:34.753Z"
   },
   {
    "duration": 7,
    "start_time": "2023-03-08T11:55:34.765Z"
   },
   {
    "duration": 8,
    "start_time": "2023-03-08T11:55:34.773Z"
   },
   {
    "duration": 9,
    "start_time": "2023-03-08T11:55:34.783Z"
   },
   {
    "duration": 6,
    "start_time": "2023-03-08T11:55:34.813Z"
   },
   {
    "duration": 58,
    "start_time": "2023-03-08T11:55:34.820Z"
   },
   {
    "duration": 6,
    "start_time": "2023-03-08T11:55:34.879Z"
   },
   {
    "duration": 27,
    "start_time": "2023-03-08T11:55:34.887Z"
   },
   {
    "duration": 14,
    "start_time": "2023-03-08T11:55:34.915Z"
   },
   {
    "duration": 7,
    "start_time": "2023-03-08T11:55:34.931Z"
   },
   {
    "duration": 12,
    "start_time": "2023-03-08T11:55:34.939Z"
   },
   {
    "duration": 1465,
    "start_time": "2023-03-08T11:55:34.953Z"
   },
   {
    "duration": 8,
    "start_time": "2023-03-08T11:55:36.420Z"
   },
   {
    "duration": 35,
    "start_time": "2023-03-08T11:57:51.595Z"
   },
   {
    "duration": 556,
    "start_time": "2023-03-08T11:58:07.495Z"
   },
   {
    "duration": 2345,
    "start_time": "2023-03-08T11:58:08.053Z"
   },
   {
    "duration": 26,
    "start_time": "2023-03-08T11:58:10.399Z"
   },
   {
    "duration": 9,
    "start_time": "2023-03-08T11:58:10.427Z"
   },
   {
    "duration": 5,
    "start_time": "2023-03-08T11:58:10.438Z"
   },
   {
    "duration": 5,
    "start_time": "2023-03-08T11:58:10.444Z"
   },
   {
    "duration": 5,
    "start_time": "2023-03-08T11:58:10.450Z"
   },
   {
    "duration": 19,
    "start_time": "2023-03-08T11:58:10.457Z"
   },
   {
    "duration": 11,
    "start_time": "2023-03-08T11:58:10.477Z"
   },
   {
    "duration": 12,
    "start_time": "2023-03-08T11:58:10.514Z"
   },
   {
    "duration": 8,
    "start_time": "2023-03-08T11:58:10.527Z"
   },
   {
    "duration": 8,
    "start_time": "2023-03-08T11:58:10.537Z"
   },
   {
    "duration": 9,
    "start_time": "2023-03-08T11:58:10.546Z"
   },
   {
    "duration": 7,
    "start_time": "2023-03-08T11:58:10.557Z"
   },
   {
    "duration": 87,
    "start_time": "2023-03-08T11:58:10.566Z"
   },
   {
    "duration": 7,
    "start_time": "2023-03-08T11:58:10.655Z"
   },
   {
    "duration": 8,
    "start_time": "2023-03-08T11:58:10.663Z"
   },
   {
    "duration": 15,
    "start_time": "2023-03-08T11:58:10.673Z"
   },
   {
    "duration": 8,
    "start_time": "2023-03-08T11:58:10.711Z"
   },
   {
    "duration": 8,
    "start_time": "2023-03-08T11:58:10.721Z"
   },
   {
    "duration": 7,
    "start_time": "2023-03-08T11:58:10.730Z"
   },
   {
    "duration": 9,
    "start_time": "2023-03-08T11:58:10.739Z"
   },
   {
    "duration": 582,
    "start_time": "2023-03-08T12:00:20.996Z"
   },
   {
    "duration": 2448,
    "start_time": "2023-03-08T12:00:21.581Z"
   },
   {
    "duration": 32,
    "start_time": "2023-03-08T12:00:24.035Z"
   },
   {
    "duration": 13,
    "start_time": "2023-03-08T12:00:24.069Z"
   },
   {
    "duration": 10,
    "start_time": "2023-03-08T12:00:24.085Z"
   },
   {
    "duration": 25,
    "start_time": "2023-03-08T12:00:24.097Z"
   },
   {
    "duration": 17,
    "start_time": "2023-03-08T12:00:24.124Z"
   },
   {
    "duration": 5,
    "start_time": "2023-03-08T12:00:24.143Z"
   },
   {
    "duration": 9,
    "start_time": "2023-03-08T12:00:24.150Z"
   },
   {
    "duration": 12,
    "start_time": "2023-03-08T12:00:24.163Z"
   },
   {
    "duration": 9,
    "start_time": "2023-03-08T12:00:24.178Z"
   },
   {
    "duration": 26,
    "start_time": "2023-03-08T12:00:24.190Z"
   },
   {
    "duration": 11,
    "start_time": "2023-03-08T12:00:24.219Z"
   },
   {
    "duration": 7,
    "start_time": "2023-03-08T12:00:24.234Z"
   },
   {
    "duration": 96,
    "start_time": "2023-03-08T12:00:24.242Z"
   },
   {
    "duration": 8,
    "start_time": "2023-03-08T12:00:24.340Z"
   },
   {
    "duration": 10,
    "start_time": "2023-03-08T12:00:24.350Z"
   },
   {
    "duration": 22,
    "start_time": "2023-03-08T12:00:24.362Z"
   },
   {
    "duration": 35,
    "start_time": "2023-03-08T12:00:24.387Z"
   },
   {
    "duration": 9,
    "start_time": "2023-03-08T12:00:24.424Z"
   },
   {
    "duration": 15,
    "start_time": "2023-03-08T12:00:24.435Z"
   },
   {
    "duration": 75,
    "start_time": "2023-03-08T12:00:24.453Z"
   },
   {
    "duration": 12,
    "start_time": "2023-03-08T12:00:24.530Z"
   },
   {
    "duration": 6,
    "start_time": "2023-03-08T12:01:10.092Z"
   },
   {
    "duration": 500,
    "start_time": "2023-03-08T12:01:19.845Z"
   },
   {
    "duration": 2415,
    "start_time": "2023-03-08T12:01:20.347Z"
   },
   {
    "duration": 31,
    "start_time": "2023-03-08T12:01:22.764Z"
   },
   {
    "duration": 11,
    "start_time": "2023-03-08T12:01:22.797Z"
   },
   {
    "duration": 6,
    "start_time": "2023-03-08T12:01:22.810Z"
   },
   {
    "duration": 6,
    "start_time": "2023-03-08T12:01:22.818Z"
   },
   {
    "duration": 5,
    "start_time": "2023-03-08T12:01:22.826Z"
   },
   {
    "duration": 5,
    "start_time": "2023-03-08T12:01:22.833Z"
   },
   {
    "duration": 8,
    "start_time": "2023-03-08T12:01:22.840Z"
   },
   {
    "duration": 10,
    "start_time": "2023-03-08T12:01:22.850Z"
   },
   {
    "duration": 11,
    "start_time": "2023-03-08T12:01:22.862Z"
   },
   {
    "duration": 40,
    "start_time": "2023-03-08T12:01:22.874Z"
   },
   {
    "duration": 11,
    "start_time": "2023-03-08T12:01:22.916Z"
   },
   {
    "duration": 6,
    "start_time": "2023-03-08T12:01:22.929Z"
   },
   {
    "duration": 75,
    "start_time": "2023-03-08T12:01:22.937Z"
   },
   {
    "duration": 7,
    "start_time": "2023-03-08T12:01:23.014Z"
   },
   {
    "duration": 11,
    "start_time": "2023-03-08T12:01:23.023Z"
   },
   {
    "duration": 24,
    "start_time": "2023-03-08T12:01:23.035Z"
   },
   {
    "duration": 18,
    "start_time": "2023-03-08T12:01:23.061Z"
   },
   {
    "duration": 8,
    "start_time": "2023-03-08T12:01:23.081Z"
   },
   {
    "duration": 8,
    "start_time": "2023-03-08T12:01:23.091Z"
   },
   {
    "duration": 17,
    "start_time": "2023-03-08T12:01:23.101Z"
   },
   {
    "duration": 8,
    "start_time": "2023-03-08T12:01:23.120Z"
   },
   {
    "duration": 9,
    "start_time": "2023-03-08T12:01:23.130Z"
   },
   {
    "duration": 8,
    "start_time": "2023-03-08T12:01:50.309Z"
   },
   {
    "duration": 6,
    "start_time": "2023-03-08T12:02:17.313Z"
   },
   {
    "duration": 5,
    "start_time": "2023-03-08T12:08:30.456Z"
   },
   {
    "duration": 6,
    "start_time": "2023-03-08T12:09:21.396Z"
   },
   {
    "duration": 7,
    "start_time": "2023-03-08T12:10:13.491Z"
   },
   {
    "duration": 4,
    "start_time": "2023-03-08T12:10:56.037Z"
   },
   {
    "duration": 300,
    "start_time": "2023-03-08T12:11:21.028Z"
   },
   {
    "duration": 87,
    "start_time": "2023-03-08T12:13:04.237Z"
   },
   {
    "duration": 9,
    "start_time": "2023-03-08T12:19:18.913Z"
   },
   {
    "duration": 14,
    "start_time": "2023-03-08T12:19:40.488Z"
   },
   {
    "duration": 127,
    "start_time": "2023-03-08T12:20:01.829Z"
   },
   {
    "duration": 112,
    "start_time": "2023-03-08T12:20:07.903Z"
   },
   {
    "duration": 6,
    "start_time": "2023-03-08T12:20:25.826Z"
   },
   {
    "duration": 1089,
    "start_time": "2023-03-08T17:04:39.223Z"
   },
   {
    "duration": 2493,
    "start_time": "2023-03-08T17:05:17.939Z"
   },
   {
    "duration": 308,
    "start_time": "2023-03-08T17:06:22.778Z"
   },
   {
    "duration": 332,
    "start_time": "2023-03-08T17:07:44.256Z"
   },
   {
    "duration": 298,
    "start_time": "2023-03-08T17:08:02.206Z"
   },
   {
    "duration": 312,
    "start_time": "2023-03-08T17:08:28.907Z"
   },
   {
    "duration": 354,
    "start_time": "2023-03-08T17:08:43.906Z"
   },
   {
    "duration": 319,
    "start_time": "2023-03-08T17:08:52.344Z"
   },
   {
    "duration": 312,
    "start_time": "2023-03-08T17:09:54.935Z"
   },
   {
    "duration": 293,
    "start_time": "2023-03-08T17:10:09.813Z"
   },
   {
    "duration": 302,
    "start_time": "2023-03-08T17:10:42.656Z"
   },
   {
    "duration": 430,
    "start_time": "2023-03-08T17:11:46.757Z"
   },
   {
    "duration": 292,
    "start_time": "2023-03-08T17:12:18.071Z"
   },
   {
    "duration": 296,
    "start_time": "2023-03-08T17:12:26.159Z"
   },
   {
    "duration": 293,
    "start_time": "2023-03-08T17:12:30.831Z"
   },
   {
    "duration": 268,
    "start_time": "2023-03-08T17:13:42.573Z"
   },
   {
    "duration": 317,
    "start_time": "2023-03-08T17:13:50.425Z"
   },
   {
    "duration": 461,
    "start_time": "2023-03-08T17:14:03.161Z"
   },
   {
    "duration": 318,
    "start_time": "2023-03-08T17:14:40.736Z"
   },
   {
    "duration": 308,
    "start_time": "2023-03-08T17:14:52.008Z"
   },
   {
    "duration": 150,
    "start_time": "2023-03-08T17:15:02.432Z"
   },
   {
    "duration": 169,
    "start_time": "2023-03-08T17:15:16.119Z"
   },
   {
    "duration": 296,
    "start_time": "2023-03-08T17:15:48.399Z"
   },
   {
    "duration": 274,
    "start_time": "2023-03-08T17:15:59.597Z"
   },
   {
    "duration": 145,
    "start_time": "2023-03-08T17:16:05.852Z"
   },
   {
    "duration": 20,
    "start_time": "2023-03-08T17:16:49.300Z"
   },
   {
    "duration": 11,
    "start_time": "2023-03-08T17:19:18.209Z"
   },
   {
    "duration": 15,
    "start_time": "2023-03-08T17:19:34.904Z"
   },
   {
    "duration": 217,
    "start_time": "2023-03-08T17:24:35.303Z"
   },
   {
    "duration": 125,
    "start_time": "2023-03-08T17:24:45.566Z"
   },
   {
    "duration": 282,
    "start_time": "2023-03-08T17:24:55.220Z"
   },
   {
    "duration": 117,
    "start_time": "2023-03-08T17:25:00.754Z"
   },
   {
    "duration": 122,
    "start_time": "2023-03-08T17:25:06.905Z"
   },
   {
    "duration": 134,
    "start_time": "2023-03-08T17:25:20.800Z"
   },
   {
    "duration": 184,
    "start_time": "2023-03-08T17:25:44.171Z"
   },
   {
    "duration": 147,
    "start_time": "2023-03-08T17:26:48.121Z"
   },
   {
    "duration": 148,
    "start_time": "2023-03-08T17:26:58.536Z"
   },
   {
    "duration": 151,
    "start_time": "2023-03-08T17:27:43.267Z"
   },
   {
    "duration": 154,
    "start_time": "2023-03-08T17:28:02.703Z"
   },
   {
    "duration": 169,
    "start_time": "2023-03-08T17:28:13.235Z"
   },
   {
    "duration": 150,
    "start_time": "2023-03-08T17:28:51.979Z"
   },
   {
    "duration": 153,
    "start_time": "2023-03-08T17:29:05.251Z"
   },
   {
    "duration": 167,
    "start_time": "2023-03-08T17:29:41.266Z"
   },
   {
    "duration": 1623,
    "start_time": "2023-03-08T17:30:25.352Z"
   },
   {
    "duration": 1292,
    "start_time": "2023-03-08T17:30:50.355Z"
   },
   {
    "duration": 1995,
    "start_time": "2023-03-08T17:30:51.650Z"
   },
   {
    "duration": 26,
    "start_time": "2023-03-08T17:30:53.648Z"
   },
   {
    "duration": 10,
    "start_time": "2023-03-08T17:30:53.676Z"
   },
   {
    "duration": 6,
    "start_time": "2023-03-08T17:30:53.688Z"
   },
   {
    "duration": 6,
    "start_time": "2023-03-08T17:30:53.696Z"
   },
   {
    "duration": 13,
    "start_time": "2023-03-08T17:30:53.703Z"
   },
   {
    "duration": 4,
    "start_time": "2023-03-08T17:30:53.718Z"
   },
   {
    "duration": 6,
    "start_time": "2023-03-08T17:30:53.723Z"
   },
   {
    "duration": 13,
    "start_time": "2023-03-08T17:30:53.732Z"
   },
   {
    "duration": 8,
    "start_time": "2023-03-08T17:30:53.747Z"
   },
   {
    "duration": 119,
    "start_time": "2023-03-08T17:30:53.757Z"
   },
   {
    "duration": 9,
    "start_time": "2023-03-08T17:30:53.878Z"
   },
   {
    "duration": 7,
    "start_time": "2023-03-08T17:30:53.889Z"
   },
   {
    "duration": 54,
    "start_time": "2023-03-08T17:30:53.911Z"
   },
   {
    "duration": 7,
    "start_time": "2023-03-08T17:30:53.967Z"
   },
   {
    "duration": 7,
    "start_time": "2023-03-08T17:30:53.975Z"
   },
   {
    "duration": 39,
    "start_time": "2023-03-08T17:30:53.984Z"
   },
   {
    "duration": 8,
    "start_time": "2023-03-08T17:30:54.024Z"
   },
   {
    "duration": 7,
    "start_time": "2023-03-08T17:30:54.034Z"
   },
   {
    "duration": 6,
    "start_time": "2023-03-08T17:30:54.042Z"
   },
   {
    "duration": 6,
    "start_time": "2023-03-08T17:30:54.050Z"
   },
   {
    "duration": 6,
    "start_time": "2023-03-08T17:30:54.058Z"
   },
   {
    "duration": 6,
    "start_time": "2023-03-08T17:30:54.065Z"
   },
   {
    "duration": 7,
    "start_time": "2023-03-08T17:30:54.112Z"
   },
   {
    "duration": 4,
    "start_time": "2023-03-08T17:30:54.121Z"
   },
   {
    "duration": 9,
    "start_time": "2023-03-08T17:30:54.127Z"
   },
   {
    "duration": 6,
    "start_time": "2023-03-08T17:30:54.139Z"
   },
   {
    "duration": 8,
    "start_time": "2023-03-08T17:30:54.147Z"
   },
   {
    "duration": 376,
    "start_time": "2023-03-08T17:30:54.157Z"
   },
   {
    "duration": 5,
    "start_time": "2023-03-08T17:30:54.535Z"
   },
   {
    "duration": 298,
    "start_time": "2023-03-08T17:30:54.541Z"
   },
   {
    "duration": 285,
    "start_time": "2023-03-08T17:30:54.842Z"
   },
   {
    "duration": 328,
    "start_time": "2023-03-08T17:30:55.130Z"
   },
   {
    "duration": 311,
    "start_time": "2023-03-08T17:30:55.459Z"
   },
   {
    "duration": 291,
    "start_time": "2023-03-08T17:30:55.772Z"
   },
   {
    "duration": 166,
    "start_time": "2023-03-08T17:30:56.066Z"
   },
   {
    "duration": 160,
    "start_time": "2023-03-08T17:30:56.234Z"
   },
   {
    "duration": 144,
    "start_time": "2023-03-08T17:30:56.396Z"
   },
   {
    "duration": 160,
    "start_time": "2023-03-08T17:30:56.543Z"
   },
   {
    "duration": 173,
    "start_time": "2023-03-08T17:30:56.705Z"
   },
   {
    "duration": 163,
    "start_time": "2023-03-08T17:30:56.880Z"
   },
   {
    "duration": 183,
    "start_time": "2023-03-08T17:30:57.044Z"
   },
   {
    "duration": 183,
    "start_time": "2023-03-08T17:30:57.229Z"
   },
   {
    "duration": 176,
    "start_time": "2023-03-08T17:30:57.415Z"
   },
   {
    "duration": 176,
    "start_time": "2023-03-08T17:31:37.415Z"
   },
   {
    "duration": 294,
    "start_time": "2023-03-08T17:35:22.536Z"
   },
   {
    "duration": 389,
    "start_time": "2023-03-08T17:39:52.812Z"
   },
   {
    "duration": 280,
    "start_time": "2023-03-08T17:40:03.406Z"
   },
   {
    "duration": 158,
    "start_time": "2023-03-08T17:40:10.525Z"
   },
   {
    "duration": 297,
    "start_time": "2023-03-08T17:40:26.240Z"
   },
   {
    "duration": 325,
    "start_time": "2023-03-08T17:44:23.374Z"
   },
   {
    "duration": 285,
    "start_time": "2023-03-08T17:44:32.503Z"
   },
   {
    "duration": 289,
    "start_time": "2023-03-08T17:47:20.250Z"
   },
   {
    "duration": 181,
    "start_time": "2023-03-08T17:47:31.454Z"
   },
   {
    "duration": 185,
    "start_time": "2023-03-08T17:54:43.936Z"
   },
   {
    "duration": 1304,
    "start_time": "2023-03-08T17:56:20.004Z"
   },
   {
    "duration": 2052,
    "start_time": "2023-03-08T17:56:21.310Z"
   },
   {
    "duration": 30,
    "start_time": "2023-03-08T17:56:23.363Z"
   },
   {
    "duration": 9,
    "start_time": "2023-03-08T17:56:23.394Z"
   },
   {
    "duration": 6,
    "start_time": "2023-03-08T17:56:23.406Z"
   },
   {
    "duration": 6,
    "start_time": "2023-03-08T17:56:23.414Z"
   },
   {
    "duration": 12,
    "start_time": "2023-03-08T17:56:23.421Z"
   },
   {
    "duration": 18,
    "start_time": "2023-03-08T17:56:23.434Z"
   },
   {
    "duration": 7,
    "start_time": "2023-03-08T17:56:23.454Z"
   },
   {
    "duration": 12,
    "start_time": "2023-03-08T17:56:23.463Z"
   },
   {
    "duration": 6,
    "start_time": "2023-03-08T17:56:23.476Z"
   },
   {
    "duration": 8,
    "start_time": "2023-03-08T17:56:23.484Z"
   },
   {
    "duration": 95,
    "start_time": "2023-03-08T17:56:23.493Z"
   },
   {
    "duration": 6,
    "start_time": "2023-03-08T17:56:23.591Z"
   },
   {
    "duration": 50,
    "start_time": "2023-03-08T17:56:23.598Z"
   },
   {
    "duration": 6,
    "start_time": "2023-03-08T17:56:23.649Z"
   },
   {
    "duration": 8,
    "start_time": "2023-03-08T17:56:23.656Z"
   },
   {
    "duration": 54,
    "start_time": "2023-03-08T17:56:23.666Z"
   },
   {
    "duration": 7,
    "start_time": "2023-03-08T17:56:23.722Z"
   },
   {
    "duration": 8,
    "start_time": "2023-03-08T17:56:23.731Z"
   },
   {
    "duration": 6,
    "start_time": "2023-03-08T17:56:23.740Z"
   },
   {
    "duration": 6,
    "start_time": "2023-03-08T17:56:23.748Z"
   },
   {
    "duration": 7,
    "start_time": "2023-03-08T17:56:23.755Z"
   },
   {
    "duration": 6,
    "start_time": "2023-03-08T17:56:23.763Z"
   },
   {
    "duration": 46,
    "start_time": "2023-03-08T17:56:23.771Z"
   },
   {
    "duration": 16,
    "start_time": "2023-03-08T17:56:23.818Z"
   },
   {
    "duration": 25,
    "start_time": "2023-03-08T17:56:23.835Z"
   },
   {
    "duration": 5,
    "start_time": "2023-03-08T17:56:23.862Z"
   },
   {
    "duration": 6,
    "start_time": "2023-03-08T17:56:23.869Z"
   },
   {
    "duration": 307,
    "start_time": "2023-03-08T17:56:23.876Z"
   },
   {
    "duration": 8,
    "start_time": "2023-03-08T17:56:24.186Z"
   },
   {
    "duration": 398,
    "start_time": "2023-03-08T17:56:24.196Z"
   },
   {
    "duration": 282,
    "start_time": "2023-03-08T17:56:24.595Z"
   },
   {
    "duration": 295,
    "start_time": "2023-03-08T17:56:24.879Z"
   },
   {
    "duration": 320,
    "start_time": "2023-03-08T17:56:25.176Z"
   },
   {
    "duration": 287,
    "start_time": "2023-03-08T17:56:25.498Z"
   },
   {
    "duration": 182,
    "start_time": "2023-03-08T17:56:25.786Z"
   },
   {
    "duration": 155,
    "start_time": "2023-03-08T17:56:25.970Z"
   },
   {
    "duration": 143,
    "start_time": "2023-03-08T17:56:26.127Z"
   },
   {
    "duration": 160,
    "start_time": "2023-03-08T17:56:26.272Z"
   },
   {
    "duration": 192,
    "start_time": "2023-03-08T17:56:26.435Z"
   },
   {
    "duration": 165,
    "start_time": "2023-03-08T17:56:26.629Z"
   },
   {
    "duration": 181,
    "start_time": "2023-03-08T17:56:26.796Z"
   },
   {
    "duration": 175,
    "start_time": "2023-03-08T17:56:26.978Z"
   },
   {
    "duration": 186,
    "start_time": "2023-03-08T17:56:27.154Z"
   },
   {
    "duration": 118,
    "start_time": "2023-03-08T18:03:34.531Z"
   },
   {
    "duration": 23,
    "start_time": "2023-03-08T18:03:48.232Z"
   },
   {
    "duration": 39,
    "start_time": "2023-03-08T18:04:03.631Z"
   },
   {
    "duration": 1280,
    "start_time": "2023-03-08T18:05:21.496Z"
   },
   {
    "duration": 2060,
    "start_time": "2023-03-08T18:05:22.778Z"
   },
   {
    "duration": 25,
    "start_time": "2023-03-08T18:05:24.840Z"
   },
   {
    "duration": 8,
    "start_time": "2023-03-08T18:05:24.867Z"
   },
   {
    "duration": 4,
    "start_time": "2023-03-08T18:05:24.878Z"
   },
   {
    "duration": 5,
    "start_time": "2023-03-08T18:05:24.884Z"
   },
   {
    "duration": 5,
    "start_time": "2023-03-08T18:05:24.890Z"
   },
   {
    "duration": 4,
    "start_time": "2023-03-08T18:05:24.896Z"
   },
   {
    "duration": 13,
    "start_time": "2023-03-08T18:05:24.901Z"
   },
   {
    "duration": 10,
    "start_time": "2023-03-08T18:05:24.915Z"
   },
   {
    "duration": 6,
    "start_time": "2023-03-08T18:05:24.926Z"
   },
   {
    "duration": 9,
    "start_time": "2023-03-08T18:05:24.934Z"
   },
   {
    "duration": 108,
    "start_time": "2023-03-08T18:05:24.945Z"
   },
   {
    "duration": 6,
    "start_time": "2023-03-08T18:05:25.058Z"
   },
   {
    "duration": 66,
    "start_time": "2023-03-08T18:05:25.066Z"
   },
   {
    "duration": 7,
    "start_time": "2023-03-08T18:05:25.134Z"
   },
   {
    "duration": 8,
    "start_time": "2023-03-08T18:05:25.143Z"
   },
   {
    "duration": 15,
    "start_time": "2023-03-08T18:05:25.153Z"
   },
   {
    "duration": 9,
    "start_time": "2023-03-08T18:05:25.170Z"
   },
   {
    "duration": 36,
    "start_time": "2023-03-08T18:05:25.180Z"
   },
   {
    "duration": 6,
    "start_time": "2023-03-08T18:05:25.217Z"
   },
   {
    "duration": 6,
    "start_time": "2023-03-08T18:05:25.224Z"
   },
   {
    "duration": 6,
    "start_time": "2023-03-08T18:05:25.232Z"
   },
   {
    "duration": 6,
    "start_time": "2023-03-08T18:05:25.239Z"
   },
   {
    "duration": 5,
    "start_time": "2023-03-08T18:05:25.247Z"
   },
   {
    "duration": 9,
    "start_time": "2023-03-08T18:05:25.254Z"
   },
   {
    "duration": 10,
    "start_time": "2023-03-08T18:05:25.264Z"
   },
   {
    "duration": 39,
    "start_time": "2023-03-08T18:05:25.276Z"
   },
   {
    "duration": 7,
    "start_time": "2023-03-08T18:05:25.318Z"
   },
   {
    "duration": 297,
    "start_time": "2023-03-08T18:05:25.327Z"
   },
   {
    "duration": 2,
    "start_time": "2023-03-08T18:05:25.627Z"
   },
   {
    "duration": 328,
    "start_time": "2023-03-08T18:05:25.631Z"
   },
   {
    "duration": 292,
    "start_time": "2023-03-08T18:05:25.961Z"
   },
   {
    "duration": 319,
    "start_time": "2023-03-08T18:05:26.255Z"
   },
   {
    "duration": 304,
    "start_time": "2023-03-08T18:05:26.575Z"
   },
   {
    "duration": 292,
    "start_time": "2023-03-08T18:05:26.881Z"
   },
   {
    "duration": 188,
    "start_time": "2023-03-08T18:05:27.175Z"
   },
   {
    "duration": 164,
    "start_time": "2023-03-08T18:05:27.365Z"
   },
   {
    "duration": 152,
    "start_time": "2023-03-08T18:05:27.531Z"
   },
   {
    "duration": 167,
    "start_time": "2023-03-08T18:05:27.685Z"
   },
   {
    "duration": 181,
    "start_time": "2023-03-08T18:05:27.856Z"
   },
   {
    "duration": 155,
    "start_time": "2023-03-08T18:05:28.039Z"
   },
   {
    "duration": 183,
    "start_time": "2023-03-08T18:05:28.196Z"
   },
   {
    "duration": 182,
    "start_time": "2023-03-08T18:05:28.381Z"
   },
   {
    "duration": 189,
    "start_time": "2023-03-08T18:05:28.565Z"
   },
   {
    "duration": 14,
    "start_time": "2023-03-08T18:18:21.959Z"
   },
   {
    "duration": 112,
    "start_time": "2023-03-08T18:34:04.069Z"
   },
   {
    "duration": 1271,
    "start_time": "2023-03-08T18:34:16.608Z"
   },
   {
    "duration": 1944,
    "start_time": "2023-03-08T18:34:17.881Z"
   },
   {
    "duration": 24,
    "start_time": "2023-03-08T18:34:19.827Z"
   },
   {
    "duration": 9,
    "start_time": "2023-03-08T18:34:19.852Z"
   },
   {
    "duration": 5,
    "start_time": "2023-03-08T18:34:19.863Z"
   },
   {
    "duration": 5,
    "start_time": "2023-03-08T18:34:19.870Z"
   },
   {
    "duration": 5,
    "start_time": "2023-03-08T18:34:19.876Z"
   },
   {
    "duration": 4,
    "start_time": "2023-03-08T18:34:19.882Z"
   },
   {
    "duration": 24,
    "start_time": "2023-03-08T18:34:19.888Z"
   },
   {
    "duration": 9,
    "start_time": "2023-03-08T18:34:19.913Z"
   },
   {
    "duration": 6,
    "start_time": "2023-03-08T18:34:19.924Z"
   },
   {
    "duration": 8,
    "start_time": "2023-03-08T18:34:19.931Z"
   },
   {
    "duration": 106,
    "start_time": "2023-03-08T18:34:19.941Z"
   },
   {
    "duration": 6,
    "start_time": "2023-03-08T18:34:20.051Z"
   },
   {
    "duration": 64,
    "start_time": "2023-03-08T18:34:20.059Z"
   },
   {
    "duration": 5,
    "start_time": "2023-03-08T18:34:20.125Z"
   },
   {
    "duration": 9,
    "start_time": "2023-03-08T18:34:20.131Z"
   },
   {
    "duration": 19,
    "start_time": "2023-03-08T18:34:20.141Z"
   },
   {
    "duration": 7,
    "start_time": "2023-03-08T18:34:20.161Z"
   },
   {
    "duration": 10,
    "start_time": "2023-03-08T18:34:20.169Z"
   },
   {
    "duration": 6,
    "start_time": "2023-03-08T18:34:20.180Z"
   },
   {
    "duration": 24,
    "start_time": "2023-03-08T18:34:20.188Z"
   },
   {
    "duration": 5,
    "start_time": "2023-03-08T18:34:20.214Z"
   },
   {
    "duration": 6,
    "start_time": "2023-03-08T18:34:20.221Z"
   },
   {
    "duration": 10,
    "start_time": "2023-03-08T18:34:20.229Z"
   },
   {
    "duration": 3,
    "start_time": "2023-03-08T18:34:20.241Z"
   },
   {
    "duration": 7,
    "start_time": "2023-03-08T18:34:20.246Z"
   },
   {
    "duration": 5,
    "start_time": "2023-03-08T18:34:20.254Z"
   },
   {
    "duration": 6,
    "start_time": "2023-03-08T18:34:20.260Z"
   },
   {
    "duration": 307,
    "start_time": "2023-03-08T18:34:20.267Z"
   },
   {
    "duration": 2,
    "start_time": "2023-03-08T18:34:20.576Z"
   },
   {
    "duration": 299,
    "start_time": "2023-03-08T18:34:20.580Z"
   },
   {
    "duration": 294,
    "start_time": "2023-03-08T18:34:20.881Z"
   },
   {
    "duration": 287,
    "start_time": "2023-03-08T18:34:21.176Z"
   },
   {
    "duration": 305,
    "start_time": "2023-03-08T18:34:21.465Z"
   },
   {
    "duration": 266,
    "start_time": "2023-03-08T18:34:21.772Z"
   },
   {
    "duration": 178,
    "start_time": "2023-03-08T18:34:22.040Z"
   },
   {
    "duration": 156,
    "start_time": "2023-03-08T18:34:22.219Z"
   },
   {
    "duration": 144,
    "start_time": "2023-03-08T18:34:22.377Z"
   },
   {
    "duration": 151,
    "start_time": "2023-03-08T18:34:22.522Z"
   },
   {
    "duration": 174,
    "start_time": "2023-03-08T18:34:22.677Z"
   },
   {
    "duration": 160,
    "start_time": "2023-03-08T18:34:22.853Z"
   },
   {
    "duration": 183,
    "start_time": "2023-03-08T18:34:23.015Z"
   },
   {
    "duration": 186,
    "start_time": "2023-03-08T18:34:23.200Z"
   },
   {
    "duration": 185,
    "start_time": "2023-03-08T18:34:23.388Z"
   },
   {
    "duration": 19,
    "start_time": "2023-03-08T18:34:23.575Z"
   },
   {
    "duration": 251,
    "start_time": "2023-03-08T18:34:23.596Z"
   },
   {
    "duration": 1229,
    "start_time": "2023-03-08T18:35:46.117Z"
   },
   {
    "duration": 1897,
    "start_time": "2023-03-08T18:35:47.348Z"
   },
   {
    "duration": 24,
    "start_time": "2023-03-08T18:35:49.247Z"
   },
   {
    "duration": 9,
    "start_time": "2023-03-08T18:35:49.272Z"
   },
   {
    "duration": 5,
    "start_time": "2023-03-08T18:35:49.282Z"
   },
   {
    "duration": 4,
    "start_time": "2023-03-08T18:35:49.288Z"
   },
   {
    "duration": 18,
    "start_time": "2023-03-08T18:35:49.294Z"
   },
   {
    "duration": 4,
    "start_time": "2023-03-08T18:35:49.313Z"
   },
   {
    "duration": 6,
    "start_time": "2023-03-08T18:35:49.318Z"
   },
   {
    "duration": 9,
    "start_time": "2023-03-08T18:35:49.326Z"
   },
   {
    "duration": 7,
    "start_time": "2023-03-08T18:35:49.336Z"
   },
   {
    "duration": 113,
    "start_time": "2023-03-08T18:35:49.345Z"
   },
   {
    "duration": 8,
    "start_time": "2023-03-08T18:35:49.460Z"
   },
   {
    "duration": 6,
    "start_time": "2023-03-08T18:35:49.470Z"
   },
   {
    "duration": 77,
    "start_time": "2023-03-08T18:35:49.478Z"
   },
   {
    "duration": 8,
    "start_time": "2023-03-08T18:35:49.557Z"
   },
   {
    "duration": 9,
    "start_time": "2023-03-08T18:35:49.567Z"
   },
   {
    "duration": 35,
    "start_time": "2023-03-08T18:35:49.577Z"
   },
   {
    "duration": 7,
    "start_time": "2023-03-08T18:35:49.614Z"
   },
   {
    "duration": 7,
    "start_time": "2023-03-08T18:35:49.623Z"
   },
   {
    "duration": 6,
    "start_time": "2023-03-08T18:35:49.631Z"
   },
   {
    "duration": 11,
    "start_time": "2023-03-08T18:35:49.638Z"
   },
   {
    "duration": 6,
    "start_time": "2023-03-08T18:35:49.650Z"
   },
   {
    "duration": 5,
    "start_time": "2023-03-08T18:35:49.657Z"
   },
   {
    "duration": 5,
    "start_time": "2023-03-08T18:35:49.664Z"
   },
   {
    "duration": 4,
    "start_time": "2023-03-08T18:35:49.670Z"
   },
   {
    "duration": 42,
    "start_time": "2023-03-08T18:35:49.675Z"
   },
   {
    "duration": 5,
    "start_time": "2023-03-08T18:35:49.720Z"
   },
   {
    "duration": 6,
    "start_time": "2023-03-08T18:35:49.726Z"
   },
   {
    "duration": 287,
    "start_time": "2023-03-08T18:35:49.734Z"
   },
   {
    "duration": 2,
    "start_time": "2023-03-08T18:35:50.023Z"
   },
   {
    "duration": 288,
    "start_time": "2023-03-08T18:35:50.026Z"
   },
   {
    "duration": 266,
    "start_time": "2023-03-08T18:35:50.315Z"
   },
   {
    "duration": 281,
    "start_time": "2023-03-08T18:35:50.583Z"
   },
   {
    "duration": 312,
    "start_time": "2023-03-08T18:35:50.867Z"
   },
   {
    "duration": 270,
    "start_time": "2023-03-08T18:35:51.181Z"
   },
   {
    "duration": 186,
    "start_time": "2023-03-08T18:35:51.453Z"
   },
   {
    "duration": 156,
    "start_time": "2023-03-08T18:35:51.641Z"
   },
   {
    "duration": 131,
    "start_time": "2023-03-08T18:35:51.799Z"
   },
   {
    "duration": 152,
    "start_time": "2023-03-08T18:35:51.932Z"
   },
   {
    "duration": 174,
    "start_time": "2023-03-08T18:35:52.085Z"
   },
   {
    "duration": 152,
    "start_time": "2023-03-08T18:35:52.261Z"
   },
   {
    "duration": 175,
    "start_time": "2023-03-08T18:35:52.415Z"
   },
   {
    "duration": 173,
    "start_time": "2023-03-08T18:35:52.591Z"
   },
   {
    "duration": 173,
    "start_time": "2023-03-08T18:35:52.766Z"
   },
   {
    "duration": 17,
    "start_time": "2023-03-08T18:35:52.941Z"
   },
   {
    "duration": 239,
    "start_time": "2023-03-08T18:35:52.960Z"
   },
   {
    "duration": 205,
    "start_time": "2023-03-08T20:52:40.874Z"
   },
   {
    "duration": 1217,
    "start_time": "2023-03-08T20:52:51.371Z"
   },
   {
    "duration": 1923,
    "start_time": "2023-03-08T20:52:52.590Z"
   },
   {
    "duration": 24,
    "start_time": "2023-03-08T20:52:54.515Z"
   },
   {
    "duration": 10,
    "start_time": "2023-03-08T20:52:54.541Z"
   },
   {
    "duration": 5,
    "start_time": "2023-03-08T20:52:54.553Z"
   },
   {
    "duration": 4,
    "start_time": "2023-03-08T20:52:54.560Z"
   },
   {
    "duration": 5,
    "start_time": "2023-03-08T20:52:54.566Z"
   },
   {
    "duration": 40,
    "start_time": "2023-03-08T20:52:54.572Z"
   },
   {
    "duration": 7,
    "start_time": "2023-03-08T20:52:54.614Z"
   },
   {
    "duration": 9,
    "start_time": "2023-03-08T20:52:54.623Z"
   },
   {
    "duration": 7,
    "start_time": "2023-03-08T20:52:54.634Z"
   },
   {
    "duration": 8,
    "start_time": "2023-03-08T20:52:54.642Z"
   },
   {
    "duration": 113,
    "start_time": "2023-03-08T20:52:54.652Z"
   },
   {
    "duration": 6,
    "start_time": "2023-03-08T20:52:54.769Z"
   },
   {
    "duration": 67,
    "start_time": "2023-03-08T20:52:54.777Z"
   },
   {
    "duration": 6,
    "start_time": "2023-03-08T20:52:54.846Z"
   },
   {
    "duration": 7,
    "start_time": "2023-03-08T20:52:54.854Z"
   },
   {
    "duration": 14,
    "start_time": "2023-03-08T20:52:54.863Z"
   },
   {
    "duration": 34,
    "start_time": "2023-03-08T20:52:54.878Z"
   },
   {
    "duration": 7,
    "start_time": "2023-03-08T20:52:54.914Z"
   },
   {
    "duration": 6,
    "start_time": "2023-03-08T20:52:54.923Z"
   },
   {
    "duration": 6,
    "start_time": "2023-03-08T20:52:54.930Z"
   },
   {
    "duration": 6,
    "start_time": "2023-03-08T20:52:54.938Z"
   },
   {
    "duration": 6,
    "start_time": "2023-03-08T20:52:54.945Z"
   },
   {
    "duration": 7,
    "start_time": "2023-03-08T20:52:54.952Z"
   },
   {
    "duration": 5,
    "start_time": "2023-03-08T20:52:54.960Z"
   },
   {
    "duration": 47,
    "start_time": "2023-03-08T20:52:54.966Z"
   },
   {
    "duration": 5,
    "start_time": "2023-03-08T20:52:55.015Z"
   },
   {
    "duration": 6,
    "start_time": "2023-03-08T20:52:55.022Z"
   },
   {
    "duration": 302,
    "start_time": "2023-03-08T20:52:55.029Z"
   },
   {
    "duration": 2,
    "start_time": "2023-03-08T20:52:55.333Z"
   },
   {
    "duration": 323,
    "start_time": "2023-03-08T20:52:55.337Z"
   },
   {
    "duration": 293,
    "start_time": "2023-03-08T20:52:55.662Z"
   },
   {
    "duration": 324,
    "start_time": "2023-03-08T20:52:55.956Z"
   },
   {
    "duration": 292,
    "start_time": "2023-03-08T20:52:56.281Z"
   },
   {
    "duration": 271,
    "start_time": "2023-03-08T20:52:56.575Z"
   },
   {
    "duration": 184,
    "start_time": "2023-03-08T20:52:56.847Z"
   },
   {
    "duration": 159,
    "start_time": "2023-03-08T20:52:57.033Z"
   },
   {
    "duration": 144,
    "start_time": "2023-03-08T20:52:57.194Z"
   },
   {
    "duration": 161,
    "start_time": "2023-03-08T20:52:57.340Z"
   },
   {
    "duration": 165,
    "start_time": "2023-03-08T20:52:57.511Z"
   },
   {
    "duration": 157,
    "start_time": "2023-03-08T20:52:57.678Z"
   },
   {
    "duration": 187,
    "start_time": "2023-03-08T20:52:57.837Z"
   },
   {
    "duration": 193,
    "start_time": "2023-03-08T20:52:58.026Z"
   },
   {
    "duration": 202,
    "start_time": "2023-03-08T20:52:58.221Z"
   },
   {
    "duration": 17,
    "start_time": "2023-03-08T20:52:58.425Z"
   },
   {
    "duration": 271,
    "start_time": "2023-03-08T20:52:58.443Z"
   },
   {
    "duration": 210,
    "start_time": "2023-03-08T20:52:58.716Z"
   },
   {
    "duration": 367,
    "start_time": "2023-03-08T20:54:15.117Z"
   },
   {
    "duration": 241,
    "start_time": "2023-03-08T20:58:02.474Z"
   },
   {
    "duration": 1645,
    "start_time": "2023-03-09T04:00:28.055Z"
   },
   {
    "duration": 2088,
    "start_time": "2023-03-09T04:00:29.702Z"
   },
   {
    "duration": 27,
    "start_time": "2023-03-09T04:00:31.792Z"
   },
   {
    "duration": 11,
    "start_time": "2023-03-09T04:00:31.821Z"
   },
   {
    "duration": 15,
    "start_time": "2023-03-09T04:00:31.834Z"
   },
   {
    "duration": 6,
    "start_time": "2023-03-09T04:00:31.851Z"
   },
   {
    "duration": 4,
    "start_time": "2023-03-09T04:00:31.859Z"
   },
   {
    "duration": 12,
    "start_time": "2023-03-09T04:00:31.866Z"
   },
   {
    "duration": 12,
    "start_time": "2023-03-09T04:00:31.880Z"
   },
   {
    "duration": 17,
    "start_time": "2023-03-09T04:00:31.895Z"
   },
   {
    "duration": 96,
    "start_time": "2023-03-09T04:00:31.914Z"
   },
   {
    "duration": 24,
    "start_time": "2023-03-09T04:00:32.011Z"
   },
   {
    "duration": 10,
    "start_time": "2023-03-09T04:00:32.036Z"
   },
   {
    "duration": 65,
    "start_time": "2023-03-09T04:00:32.048Z"
   },
   {
    "duration": 6,
    "start_time": "2023-03-09T04:00:32.114Z"
   },
   {
    "duration": 39,
    "start_time": "2023-03-09T04:00:32.121Z"
   },
   {
    "duration": 20,
    "start_time": "2023-03-09T04:00:32.162Z"
   },
   {
    "duration": 8,
    "start_time": "2023-03-09T04:00:32.183Z"
   },
   {
    "duration": 9,
    "start_time": "2023-03-09T04:00:32.193Z"
   },
   {
    "duration": 10,
    "start_time": "2023-03-09T04:00:32.204Z"
   },
   {
    "duration": 6,
    "start_time": "2023-03-09T04:00:32.215Z"
   },
   {
    "duration": 29,
    "start_time": "2023-03-09T04:00:32.222Z"
   },
   {
    "duration": 7,
    "start_time": "2023-03-09T04:00:32.252Z"
   },
   {
    "duration": 11,
    "start_time": "2023-03-09T04:00:32.260Z"
   },
   {
    "duration": 4,
    "start_time": "2023-03-09T04:00:32.273Z"
   },
   {
    "duration": 10,
    "start_time": "2023-03-09T04:00:32.279Z"
   },
   {
    "duration": 17,
    "start_time": "2023-03-09T04:00:32.291Z"
   },
   {
    "duration": 10,
    "start_time": "2023-03-09T04:00:32.312Z"
   },
   {
    "duration": 311,
    "start_time": "2023-03-09T04:00:32.324Z"
   },
   {
    "duration": 6,
    "start_time": "2023-03-09T04:00:32.641Z"
   },
   {
    "duration": 333,
    "start_time": "2023-03-09T04:00:32.649Z"
   },
   {
    "duration": 303,
    "start_time": "2023-03-09T04:00:32.984Z"
   },
   {
    "duration": 317,
    "start_time": "2023-03-09T04:00:33.289Z"
   },
   {
    "duration": 335,
    "start_time": "2023-03-09T04:00:33.608Z"
   },
   {
    "duration": 299,
    "start_time": "2023-03-09T04:00:33.945Z"
   },
   {
    "duration": 213,
    "start_time": "2023-03-09T04:00:34.246Z"
   },
   {
    "duration": 170,
    "start_time": "2023-03-09T04:00:34.461Z"
   },
   {
    "duration": 147,
    "start_time": "2023-03-09T04:00:34.633Z"
   },
   {
    "duration": 153,
    "start_time": "2023-03-09T04:00:34.781Z"
   },
   {
    "duration": 176,
    "start_time": "2023-03-09T04:00:34.936Z"
   },
   {
    "duration": 144,
    "start_time": "2023-03-09T04:00:35.113Z"
   },
   {
    "duration": 173,
    "start_time": "2023-03-09T04:00:35.259Z"
   },
   {
    "duration": 180,
    "start_time": "2023-03-09T04:00:35.434Z"
   },
   {
    "duration": 190,
    "start_time": "2023-03-09T04:00:35.616Z"
   },
   {
    "duration": 19,
    "start_time": "2023-03-09T04:00:35.807Z"
   },
   {
    "duration": 279,
    "start_time": "2023-03-09T04:00:35.841Z"
   },
   {
    "duration": 285,
    "start_time": "2023-03-09T04:00:36.122Z"
   },
   {
    "duration": 192,
    "start_time": "2023-03-09T04:00:36.409Z"
   },
   {
    "duration": 170,
    "start_time": "2023-03-09T04:00:36.603Z"
   },
   {
    "duration": 171,
    "start_time": "2023-03-09T04:00:36.775Z"
   },
   {
    "duration": 194,
    "start_time": "2023-03-09T04:00:36.948Z"
   },
   {
    "duration": 224,
    "start_time": "2023-03-09T04:00:37.144Z"
   },
   {
    "duration": 217,
    "start_time": "2023-03-09T04:00:37.370Z"
   },
   {
    "duration": 152,
    "start_time": "2023-03-09T04:00:37.589Z"
   },
   {
    "duration": 10,
    "start_time": "2023-03-09T04:00:37.743Z"
   },
   {
    "duration": 12,
    "start_time": "2023-03-09T04:00:37.755Z"
   },
   {
    "duration": 10,
    "start_time": "2023-03-09T04:00:37.768Z"
   },
   {
    "duration": 12,
    "start_time": "2023-03-09T04:00:37.780Z"
   },
   {
    "duration": 9,
    "start_time": "2023-03-09T04:00:37.794Z"
   },
   {
    "duration": 41,
    "start_time": "2023-03-09T04:00:37.805Z"
   },
   {
    "duration": 10,
    "start_time": "2023-03-09T04:00:37.848Z"
   },
   {
    "duration": 9,
    "start_time": "2023-03-09T04:00:37.859Z"
   },
   {
    "duration": 8,
    "start_time": "2023-03-09T04:00:37.870Z"
   },
   {
    "duration": 6,
    "start_time": "2023-03-09T04:00:37.880Z"
   },
   {
    "duration": 8,
    "start_time": "2023-03-09T04:00:37.888Z"
   },
   {
    "duration": 53,
    "start_time": "2023-03-09T04:00:37.897Z"
   },
   {
    "duration": 184,
    "start_time": "2023-03-09T04:00:37.951Z"
   },
   {
    "duration": 55,
    "start_time": "2023-03-09T11:47:03.770Z"
   },
   {
    "duration": 1393,
    "start_time": "2023-03-09T11:47:13.611Z"
   },
   {
    "duration": 249,
    "start_time": "2023-03-09T11:47:15.006Z"
   },
   {
    "duration": 1995,
    "start_time": "2023-03-09T11:47:15.257Z"
   },
   {
    "duration": 34,
    "start_time": "2023-03-09T11:47:17.255Z"
   },
   {
    "duration": 105,
    "start_time": "2023-03-09T11:47:17.290Z"
   },
   {
    "duration": 0,
    "start_time": "2023-03-09T11:47:17.475Z"
   },
   {
    "duration": 0,
    "start_time": "2023-03-09T11:47:17.477Z"
   },
   {
    "duration": 0,
    "start_time": "2023-03-09T11:47:17.478Z"
   },
   {
    "duration": 0,
    "start_time": "2023-03-09T11:47:17.479Z"
   },
   {
    "duration": 0,
    "start_time": "2023-03-09T11:47:17.480Z"
   },
   {
    "duration": 0,
    "start_time": "2023-03-09T11:47:17.481Z"
   },
   {
    "duration": 0,
    "start_time": "2023-03-09T11:47:17.482Z"
   },
   {
    "duration": 0,
    "start_time": "2023-03-09T11:47:17.483Z"
   },
   {
    "duration": 0,
    "start_time": "2023-03-09T11:47:17.484Z"
   },
   {
    "duration": 0,
    "start_time": "2023-03-09T11:47:17.485Z"
   },
   {
    "duration": 0,
    "start_time": "2023-03-09T11:47:17.486Z"
   },
   {
    "duration": 0,
    "start_time": "2023-03-09T11:47:17.487Z"
   },
   {
    "duration": 0,
    "start_time": "2023-03-09T11:47:17.489Z"
   },
   {
    "duration": 0,
    "start_time": "2023-03-09T11:47:17.490Z"
   },
   {
    "duration": 0,
    "start_time": "2023-03-09T11:47:17.491Z"
   },
   {
    "duration": 0,
    "start_time": "2023-03-09T11:47:17.492Z"
   },
   {
    "duration": 0,
    "start_time": "2023-03-09T11:47:17.492Z"
   },
   {
    "duration": 0,
    "start_time": "2023-03-09T11:47:17.493Z"
   },
   {
    "duration": 0,
    "start_time": "2023-03-09T11:47:17.494Z"
   },
   {
    "duration": 0,
    "start_time": "2023-03-09T11:47:17.495Z"
   },
   {
    "duration": 0,
    "start_time": "2023-03-09T11:47:17.496Z"
   },
   {
    "duration": 0,
    "start_time": "2023-03-09T11:47:17.497Z"
   },
   {
    "duration": 0,
    "start_time": "2023-03-09T11:47:17.499Z"
   },
   {
    "duration": 0,
    "start_time": "2023-03-09T11:47:17.499Z"
   },
   {
    "duration": 0,
    "start_time": "2023-03-09T11:47:17.500Z"
   },
   {
    "duration": 0,
    "start_time": "2023-03-09T11:47:17.501Z"
   },
   {
    "duration": 0,
    "start_time": "2023-03-09T11:47:17.542Z"
   },
   {
    "duration": 0,
    "start_time": "2023-03-09T11:47:17.543Z"
   },
   {
    "duration": 0,
    "start_time": "2023-03-09T11:47:17.546Z"
   },
   {
    "duration": 0,
    "start_time": "2023-03-09T11:47:17.547Z"
   },
   {
    "duration": 0,
    "start_time": "2023-03-09T11:47:17.548Z"
   },
   {
    "duration": 0,
    "start_time": "2023-03-09T11:47:17.553Z"
   },
   {
    "duration": 0,
    "start_time": "2023-03-09T11:47:17.554Z"
   },
   {
    "duration": 0,
    "start_time": "2023-03-09T11:47:17.556Z"
   },
   {
    "duration": 0,
    "start_time": "2023-03-09T11:47:17.557Z"
   },
   {
    "duration": 0,
    "start_time": "2023-03-09T11:47:17.558Z"
   },
   {
    "duration": 0,
    "start_time": "2023-03-09T11:47:17.559Z"
   },
   {
    "duration": 0,
    "start_time": "2023-03-09T11:47:17.561Z"
   },
   {
    "duration": 0,
    "start_time": "2023-03-09T11:47:17.562Z"
   },
   {
    "duration": 0,
    "start_time": "2023-03-09T11:47:17.563Z"
   },
   {
    "duration": 0,
    "start_time": "2023-03-09T11:47:17.564Z"
   },
   {
    "duration": 0,
    "start_time": "2023-03-09T11:47:17.566Z"
   },
   {
    "duration": 0,
    "start_time": "2023-03-09T11:47:17.568Z"
   },
   {
    "duration": 0,
    "start_time": "2023-03-09T11:47:17.569Z"
   },
   {
    "duration": 0,
    "start_time": "2023-03-09T11:47:17.569Z"
   },
   {
    "duration": 0,
    "start_time": "2023-03-09T11:47:17.571Z"
   },
   {
    "duration": 0,
    "start_time": "2023-03-09T11:47:17.572Z"
   },
   {
    "duration": 0,
    "start_time": "2023-03-09T11:47:17.573Z"
   },
   {
    "duration": 0,
    "start_time": "2023-03-09T11:47:17.573Z"
   },
   {
    "duration": 0,
    "start_time": "2023-03-09T11:47:17.575Z"
   },
   {
    "duration": 0,
    "start_time": "2023-03-09T11:47:17.576Z"
   },
   {
    "duration": 0,
    "start_time": "2023-03-09T11:47:17.577Z"
   },
   {
    "duration": 0,
    "start_time": "2023-03-09T11:47:17.578Z"
   },
   {
    "duration": 0,
    "start_time": "2023-03-09T11:47:17.580Z"
   },
   {
    "duration": 0,
    "start_time": "2023-03-09T11:47:17.581Z"
   },
   {
    "duration": 0,
    "start_time": "2023-03-09T11:47:17.582Z"
   },
   {
    "duration": 0,
    "start_time": "2023-03-09T11:47:17.583Z"
   },
   {
    "duration": 0,
    "start_time": "2023-03-09T11:47:17.585Z"
   },
   {
    "duration": 0,
    "start_time": "2023-03-09T11:47:17.587Z"
   },
   {
    "duration": 0,
    "start_time": "2023-03-09T11:47:17.587Z"
   },
   {
    "duration": 0,
    "start_time": "2023-03-09T11:47:17.589Z"
   },
   {
    "duration": 0,
    "start_time": "2023-03-09T11:47:17.590Z"
   },
   {
    "duration": 0,
    "start_time": "2023-03-09T11:47:17.591Z"
   },
   {
    "duration": 18,
    "start_time": "2023-03-09T11:48:05.257Z"
   },
   {
    "duration": 97,
    "start_time": "2023-03-09T11:48:14.403Z"
   },
   {
    "duration": 28,
    "start_time": "2023-03-09T11:48:59.676Z"
   },
   {
    "duration": 14,
    "start_time": "2023-03-09T12:11:22.583Z"
   },
   {
    "duration": 17,
    "start_time": "2023-03-09T12:12:00.503Z"
   },
   {
    "duration": 11,
    "start_time": "2023-03-09T12:12:58.577Z"
   },
   {
    "duration": 1226,
    "start_time": "2023-03-09T12:13:06.891Z"
   },
   {
    "duration": 159,
    "start_time": "2023-03-09T12:13:08.118Z"
   },
   {
    "duration": 1947,
    "start_time": "2023-03-09T12:13:08.280Z"
   },
   {
    "duration": 36,
    "start_time": "2023-03-09T12:13:10.229Z"
   },
   {
    "duration": 128,
    "start_time": "2023-03-09T12:13:10.267Z"
   },
   {
    "duration": 4,
    "start_time": "2023-03-09T12:13:10.397Z"
   },
   {
    "duration": 6,
    "start_time": "2023-03-09T12:13:10.402Z"
   },
   {
    "duration": 6,
    "start_time": "2023-03-09T12:13:10.409Z"
   },
   {
    "duration": 11,
    "start_time": "2023-03-09T12:13:10.416Z"
   },
   {
    "duration": 25,
    "start_time": "2023-03-09T12:13:10.428Z"
   },
   {
    "duration": 21,
    "start_time": "2023-03-09T12:13:10.460Z"
   },
   {
    "duration": 8,
    "start_time": "2023-03-09T12:13:10.482Z"
   },
   {
    "duration": 19,
    "start_time": "2023-03-09T12:13:10.491Z"
   },
   {
    "duration": 5,
    "start_time": "2023-03-09T12:13:10.513Z"
   },
   {
    "duration": 64,
    "start_time": "2023-03-09T12:13:10.519Z"
   },
   {
    "duration": 5,
    "start_time": "2023-03-09T12:13:10.585Z"
   },
   {
    "duration": 10,
    "start_time": "2023-03-09T12:13:10.591Z"
   },
   {
    "duration": 15,
    "start_time": "2023-03-09T12:13:10.602Z"
   },
   {
    "duration": 7,
    "start_time": "2023-03-09T12:13:10.618Z"
   },
   {
    "duration": 45,
    "start_time": "2023-03-09T12:13:10.627Z"
   },
   {
    "duration": 7,
    "start_time": "2023-03-09T12:13:10.676Z"
   },
   {
    "duration": 7,
    "start_time": "2023-03-09T12:13:10.685Z"
   },
   {
    "duration": 6,
    "start_time": "2023-03-09T12:13:10.693Z"
   },
   {
    "duration": 8,
    "start_time": "2023-03-09T12:13:10.701Z"
   },
   {
    "duration": 8,
    "start_time": "2023-03-09T12:13:10.711Z"
   },
   {
    "duration": 58,
    "start_time": "2023-03-09T12:13:10.720Z"
   },
   {
    "duration": 8,
    "start_time": "2023-03-09T12:13:10.779Z"
   },
   {
    "duration": 7,
    "start_time": "2023-03-09T12:13:10.788Z"
   },
   {
    "duration": 7,
    "start_time": "2023-03-09T12:13:10.797Z"
   },
   {
    "duration": 300,
    "start_time": "2023-03-09T12:13:10.805Z"
   },
   {
    "duration": 4,
    "start_time": "2023-03-09T12:13:11.107Z"
   },
   {
    "duration": 351,
    "start_time": "2023-03-09T12:13:11.113Z"
   },
   {
    "duration": 290,
    "start_time": "2023-03-09T12:13:11.465Z"
   },
   {
    "duration": 357,
    "start_time": "2023-03-09T12:13:11.756Z"
   },
   {
    "duration": 461,
    "start_time": "2023-03-09T12:13:12.115Z"
   },
   {
    "duration": 221,
    "start_time": "2023-03-09T12:13:12.580Z"
   },
   {
    "duration": 194,
    "start_time": "2023-03-09T12:13:12.803Z"
   },
   {
    "duration": 153,
    "start_time": "2023-03-09T12:13:12.999Z"
   },
   {
    "duration": 147,
    "start_time": "2023-03-09T12:13:13.154Z"
   },
   {
    "duration": 166,
    "start_time": "2023-03-09T12:13:13.303Z"
   },
   {
    "duration": 194,
    "start_time": "2023-03-09T12:13:13.473Z"
   },
   {
    "duration": 150,
    "start_time": "2023-03-09T12:13:13.671Z"
   },
   {
    "duration": 193,
    "start_time": "2023-03-09T12:13:13.823Z"
   },
   {
    "duration": 190,
    "start_time": "2023-03-09T12:13:14.017Z"
   },
   {
    "duration": 190,
    "start_time": "2023-03-09T12:13:14.209Z"
   },
   {
    "duration": 19,
    "start_time": "2023-03-09T12:13:14.401Z"
   },
   {
    "duration": 273,
    "start_time": "2023-03-09T12:13:14.421Z"
   },
   {
    "duration": 276,
    "start_time": "2023-03-09T12:13:14.696Z"
   },
   {
    "duration": 178,
    "start_time": "2023-03-09T12:13:14.975Z"
   },
   {
    "duration": 161,
    "start_time": "2023-03-09T12:13:15.160Z"
   },
   {
    "duration": 164,
    "start_time": "2023-03-09T12:13:15.323Z"
   },
   {
    "duration": 168,
    "start_time": "2023-03-09T12:13:15.489Z"
   },
   {
    "duration": 171,
    "start_time": "2023-03-09T12:13:15.660Z"
   },
   {
    "duration": 172,
    "start_time": "2023-03-09T12:13:15.832Z"
   },
   {
    "duration": 143,
    "start_time": "2023-03-09T12:13:16.006Z"
   },
   {
    "duration": 15,
    "start_time": "2023-03-09T12:13:16.151Z"
   },
   {
    "duration": 17,
    "start_time": "2023-03-09T12:13:16.174Z"
   },
   {
    "duration": 10,
    "start_time": "2023-03-09T12:13:16.193Z"
   },
   {
    "duration": 16,
    "start_time": "2023-03-09T12:13:16.205Z"
   },
   {
    "duration": 9,
    "start_time": "2023-03-09T12:13:16.223Z"
   },
   {
    "duration": 12,
    "start_time": "2023-03-09T12:13:16.234Z"
   },
   {
    "duration": 34,
    "start_time": "2023-03-09T12:13:16.251Z"
   },
   {
    "duration": 11,
    "start_time": "2023-03-09T12:13:16.287Z"
   },
   {
    "duration": 10,
    "start_time": "2023-03-09T12:13:16.299Z"
   },
   {
    "duration": 9,
    "start_time": "2023-03-09T12:13:16.311Z"
   },
   {
    "duration": 8,
    "start_time": "2023-03-09T12:13:16.322Z"
   },
   {
    "duration": 22,
    "start_time": "2023-03-09T12:13:16.332Z"
   },
   {
    "duration": 179,
    "start_time": "2023-03-09T12:13:16.355Z"
   },
   {
    "duration": 114,
    "start_time": "2023-03-09T12:16:56.016Z"
   },
   {
    "duration": 182,
    "start_time": "2023-03-09T12:18:51.319Z"
   },
   {
    "duration": 140,
    "start_time": "2023-03-09T12:19:24.308Z"
   },
   {
    "duration": 134,
    "start_time": "2023-03-09T12:20:18.165Z"
   }
  ],
  "kernelspec": {
   "display_name": "Python 3 (ipykernel)",
   "language": "python",
   "name": "python3"
  },
  "language_info": {
   "codemirror_mode": {
    "name": "ipython",
    "version": 3
   },
   "file_extension": ".py",
   "mimetype": "text/x-python",
   "name": "python",
   "nbconvert_exporter": "python",
   "pygments_lexer": "ipython3",
   "version": "3.9.16"
  },
  "toc": {
   "base_numbering": 1,
   "nav_menu": {},
   "number_sections": true,
   "sideBar": true,
   "skip_h1_title": true,
   "title_cell": "Table of Contents",
   "title_sidebar": "Contents",
   "toc_cell": false,
   "toc_position": {},
   "toc_section_display": true,
   "toc_window_display": false
  }
 },
 "nbformat": 4,
 "nbformat_minor": 2
}
